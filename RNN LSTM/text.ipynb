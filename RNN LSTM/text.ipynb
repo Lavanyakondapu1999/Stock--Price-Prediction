{
  "nbformat": 4,
  "nbformat_minor": 0,
  "metadata": {
    "colab": {
      "name": "text.ipynb",
      "provenance": []
    },
    "kernelspec": {
      "name": "python3",
      "display_name": "Python 3"
    },
    "language_info": {
      "name": "python"
    }
  },
  "cells": [
    {
      "cell_type": "code",
      "metadata": {
        "id": "OjwL-DoqPHhM",
        "colab": {
          "base_uri": "https://localhost:8080/"
        },
        "outputId": "a53c8b6c-80f5-4d8b-b0e9-717c70eabc0f"
      },
      "source": [
        "!pip install nltk"
      ],
      "execution_count": null,
      "outputs": [
        {
          "output_type": "stream",
          "text": [
            "Requirement already satisfied: nltk in /usr/local/lib/python3.7/dist-packages (3.2.5)\n",
            "Requirement already satisfied: six in /usr/local/lib/python3.7/dist-packages (from nltk) (1.15.0)\n"
          ],
          "name": "stdout"
        }
      ]
    },
    {
      "cell_type": "code",
      "metadata": {
        "id": "TDvXzNhrPjEb"
      },
      "source": [
        "import pandas as pd\n",
        "import numpy as np\n",
        "import matplotlib.pyplot as plt\n",
        "import seaborn as sns\n",
        "%matplotlib inline"
      ],
      "execution_count": null,
      "outputs": []
    },
    {
      "cell_type": "code",
      "metadata": {
        "id": "0YtqeRd-Rr_A"
      },
      "source": [
        "df1=pd.read_csv(\"/content/drive/MyDrive/Colab Notebooks/nasdaq technocolabs/Untitled Folder/Predicting-Stock-Price-Changes-Using-Past-Prices-and-News-Articles-ML1-main/Datasets/Market Headlines/News_articles_dataset.csv\",parse_dates=['Date'])"
      ],
      "execution_count": null,
      "outputs": []
    },
    {
      "cell_type": "code",
      "metadata": {
        "colab": {
          "base_uri": "https://localhost:8080/",
          "height": 206
        },
        "id": "JXcGPF2NSH_V",
        "outputId": "e30661b5-cccd-4249-f45e-c3f6c8169814"
      },
      "source": [
        "df1.head()"
      ],
      "execution_count": null,
      "outputs": [
        {
          "output_type": "execute_result",
          "data": {
            "text/html": [
              "<div>\n",
              "<style scoped>\n",
              "    .dataframe tbody tr th:only-of-type {\n",
              "        vertical-align: middle;\n",
              "    }\n",
              "\n",
              "    .dataframe tbody tr th {\n",
              "        vertical-align: top;\n",
              "    }\n",
              "\n",
              "    .dataframe thead th {\n",
              "        text-align: right;\n",
              "    }\n",
              "</style>\n",
              "<table border=\"1\" class=\"dataframe\">\n",
              "  <thead>\n",
              "    <tr style=\"text-align: right;\">\n",
              "      <th></th>\n",
              "      <th>Date</th>\n",
              "      <th>Headlines</th>\n",
              "    </tr>\n",
              "  </thead>\n",
              "  <tbody>\n",
              "    <tr>\n",
              "      <th>0</th>\n",
              "      <td>2015-01-01</td>\n",
              "      <td>What Can We Expect From Apple Inc. In 2015? 1 ...</td>\n",
              "    </tr>\n",
              "    <tr>\n",
              "      <th>1</th>\n",
              "      <td>2015-02-01</td>\n",
              "      <td>What to expect from Apple in 2015 beyond its s...</td>\n",
              "    </tr>\n",
              "    <tr>\n",
              "      <th>2</th>\n",
              "      <td>2015-03-01</td>\n",
              "      <td>Mountie: An inexpensive and innovative way to ...</td>\n",
              "    </tr>\n",
              "    <tr>\n",
              "      <th>3</th>\n",
              "      <td>2015-04-01</td>\n",
              "      <td>Donald Yacktman on the Sources of Moats, His C...</td>\n",
              "    </tr>\n",
              "    <tr>\n",
              "      <th>4</th>\n",
              "      <td>2015-05-01</td>\n",
              "      <td>SIM-free iPhone 6, 6 Plus reportedly debuting ...</td>\n",
              "    </tr>\n",
              "  </tbody>\n",
              "</table>\n",
              "</div>"
            ],
            "text/plain": [
              "        Date                                          Headlines\n",
              "0 2015-01-01  What Can We Expect From Apple Inc. In 2015? 1 ...\n",
              "1 2015-02-01  What to expect from Apple in 2015 beyond its s...\n",
              "2 2015-03-01  Mountie: An inexpensive and innovative way to ...\n",
              "3 2015-04-01  Donald Yacktman on the Sources of Moats, His C...\n",
              "4 2015-05-01  SIM-free iPhone 6, 6 Plus reportedly debuting ..."
            ]
          },
          "metadata": {
            "tags": []
          },
          "execution_count": 4
        }
      ]
    },
    {
      "cell_type": "code",
      "metadata": {
        "colab": {
          "base_uri": "https://localhost:8080/"
        },
        "id": "ZKBklHTzSNRx",
        "outputId": "b4239f5f-28a7-406c-9f76-3bedd2a05c05"
      },
      "source": [
        "df1.isnull().sum()"
      ],
      "execution_count": null,
      "outputs": [
        {
          "output_type": "execute_result",
          "data": {
            "text/plain": [
              "Date         0\n",
              "Headlines    0\n",
              "dtype: int64"
            ]
          },
          "metadata": {
            "tags": []
          },
          "execution_count": 5
        }
      ]
    },
    {
      "cell_type": "code",
      "metadata": {
        "id": "4kjZTQ4WSSka"
      },
      "source": [
        "df1.sort_index(inplace=True)"
      ],
      "execution_count": null,
      "outputs": []
    },
    {
      "cell_type": "code",
      "metadata": {
        "colab": {
          "base_uri": "https://localhost:8080/",
          "height": 363
        },
        "id": "12YWlMYPSYd2",
        "outputId": "12fce59e-e03e-46fe-ae07-d736b2dfeeff"
      },
      "source": [
        "df1.head(10)"
      ],
      "execution_count": null,
      "outputs": [
        {
          "output_type": "execute_result",
          "data": {
            "text/html": [
              "<div>\n",
              "<style scoped>\n",
              "    .dataframe tbody tr th:only-of-type {\n",
              "        vertical-align: middle;\n",
              "    }\n",
              "\n",
              "    .dataframe tbody tr th {\n",
              "        vertical-align: top;\n",
              "    }\n",
              "\n",
              "    .dataframe thead th {\n",
              "        text-align: right;\n",
              "    }\n",
              "</style>\n",
              "<table border=\"1\" class=\"dataframe\">\n",
              "  <thead>\n",
              "    <tr style=\"text-align: right;\">\n",
              "      <th></th>\n",
              "      <th>Date</th>\n",
              "      <th>Headlines</th>\n",
              "    </tr>\n",
              "  </thead>\n",
              "  <tbody>\n",
              "    <tr>\n",
              "      <th>0</th>\n",
              "      <td>2015-01-01</td>\n",
              "      <td>What Can We Expect From Apple Inc. In 2015? 1 ...</td>\n",
              "    </tr>\n",
              "    <tr>\n",
              "      <th>1</th>\n",
              "      <td>2015-02-01</td>\n",
              "      <td>What to expect from Apple in 2015 beyond its s...</td>\n",
              "    </tr>\n",
              "    <tr>\n",
              "      <th>2</th>\n",
              "      <td>2015-03-01</td>\n",
              "      <td>Mountie: An inexpensive and innovative way to ...</td>\n",
              "    </tr>\n",
              "    <tr>\n",
              "      <th>3</th>\n",
              "      <td>2015-04-01</td>\n",
              "      <td>Donald Yacktman on the Sources of Moats, His C...</td>\n",
              "    </tr>\n",
              "    <tr>\n",
              "      <th>4</th>\n",
              "      <td>2015-05-01</td>\n",
              "      <td>SIM-free iPhone 6, 6 Plus reportedly debuting ...</td>\n",
              "    </tr>\n",
              "    <tr>\n",
              "      <th>5</th>\n",
              "      <td>2015-06-01</td>\n",
              "      <td>Technology Transforming Cars Into \"Phones On W...</td>\n",
              "    </tr>\n",
              "    <tr>\n",
              "      <th>6</th>\n",
              "      <td>2015-07-01</td>\n",
              "      <td>Apple issues fourth developer beta of OS X 10....</td>\n",
              "    </tr>\n",
              "    <tr>\n",
              "      <th>7</th>\n",
              "      <td>2015-08-01</td>\n",
              "      <td>Apple company recalls 2014 shipments after lin...</td>\n",
              "    </tr>\n",
              "    <tr>\n",
              "      <th>8</th>\n",
              "      <td>2015-09-01</td>\n",
              "      <td>Samsung is reportedly making a secret new chip...</td>\n",
              "    </tr>\n",
              "    <tr>\n",
              "      <th>9</th>\n",
              "      <td>2015-10-01</td>\n",
              "      <td>Eight years ago, Steve Jobs unveiled iPhone an...</td>\n",
              "    </tr>\n",
              "  </tbody>\n",
              "</table>\n",
              "</div>"
            ],
            "text/plain": [
              "        Date                                          Headlines\n",
              "0 2015-01-01  What Can We Expect From Apple Inc. In 2015? 1 ...\n",
              "1 2015-02-01  What to expect from Apple in 2015 beyond its s...\n",
              "2 2015-03-01  Mountie: An inexpensive and innovative way to ...\n",
              "3 2015-04-01  Donald Yacktman on the Sources of Moats, His C...\n",
              "4 2015-05-01  SIM-free iPhone 6, 6 Plus reportedly debuting ...\n",
              "5 2015-06-01  Technology Transforming Cars Into \"Phones On W...\n",
              "6 2015-07-01  Apple issues fourth developer beta of OS X 10....\n",
              "7 2015-08-01  Apple company recalls 2014 shipments after lin...\n",
              "8 2015-09-01  Samsung is reportedly making a secret new chip...\n",
              "9 2015-10-01  Eight years ago, Steve Jobs unveiled iPhone an..."
            ]
          },
          "metadata": {
            "tags": []
          },
          "execution_count": 7
        }
      ]
    },
    {
      "cell_type": "code",
      "metadata": {
        "id": "qauFxitRSbOl"
      },
      "source": [
        "df=pd.read_csv(\"/content/drive/MyDrive/Colab Notebooks/nasdaq technocolabs/Untitled Folder/Predicting-Stock-Price-Changes-Using-Past-Prices-and-News-Articles-ML1-main/Datasets/Nasdaq Stocks/HistoricalData_APPLE.csv\",parse_dates=['Date'])"
      ],
      "execution_count": null,
      "outputs": []
    },
    {
      "cell_type": "code",
      "metadata": {
        "colab": {
          "base_uri": "https://localhost:8080/",
          "height": 363
        },
        "id": "hYA4MPu-StcQ",
        "outputId": "ed10c0e9-32a1-4038-9c8a-5666c3e7f80c"
      },
      "source": [
        "df.head(10)"
      ],
      "execution_count": null,
      "outputs": [
        {
          "output_type": "execute_result",
          "data": {
            "text/html": [
              "<div>\n",
              "<style scoped>\n",
              "    .dataframe tbody tr th:only-of-type {\n",
              "        vertical-align: middle;\n",
              "    }\n",
              "\n",
              "    .dataframe tbody tr th {\n",
              "        vertical-align: top;\n",
              "    }\n",
              "\n",
              "    .dataframe thead th {\n",
              "        text-align: right;\n",
              "    }\n",
              "</style>\n",
              "<table border=\"1\" class=\"dataframe\">\n",
              "  <thead>\n",
              "    <tr style=\"text-align: right;\">\n",
              "      <th></th>\n",
              "      <th>Date</th>\n",
              "      <th>Close/Last</th>\n",
              "      <th>Volume</th>\n",
              "      <th>Open</th>\n",
              "      <th>High</th>\n",
              "      <th>Low</th>\n",
              "    </tr>\n",
              "  </thead>\n",
              "  <tbody>\n",
              "    <tr>\n",
              "      <th>0</th>\n",
              "      <td>2021-06-09</td>\n",
              "      <td>$127.13</td>\n",
              "      <td>56877940</td>\n",
              "      <td>$127.21</td>\n",
              "      <td>$127.75</td>\n",
              "      <td>$126.52</td>\n",
              "    </tr>\n",
              "    <tr>\n",
              "      <th>1</th>\n",
              "      <td>2021-06-08</td>\n",
              "      <td>$126.74</td>\n",
              "      <td>74403770</td>\n",
              "      <td>$126.6</td>\n",
              "      <td>$128.46</td>\n",
              "      <td>$126.2101</td>\n",
              "    </tr>\n",
              "    <tr>\n",
              "      <th>2</th>\n",
              "      <td>2021-06-07</td>\n",
              "      <td>$125.9</td>\n",
              "      <td>71057550</td>\n",
              "      <td>$126.17</td>\n",
              "      <td>$126.32</td>\n",
              "      <td>$124.8321</td>\n",
              "    </tr>\n",
              "    <tr>\n",
              "      <th>3</th>\n",
              "      <td>2021-06-04</td>\n",
              "      <td>$125.89</td>\n",
              "      <td>75169340</td>\n",
              "      <td>$124.07</td>\n",
              "      <td>$126.16</td>\n",
              "      <td>$123.85</td>\n",
              "    </tr>\n",
              "    <tr>\n",
              "      <th>4</th>\n",
              "      <td>2021-06-03</td>\n",
              "      <td>$123.54</td>\n",
              "      <td>76229170</td>\n",
              "      <td>$124.68</td>\n",
              "      <td>$124.85</td>\n",
              "      <td>$123.13</td>\n",
              "    </tr>\n",
              "    <tr>\n",
              "      <th>5</th>\n",
              "      <td>2021-06-02</td>\n",
              "      <td>$125.06</td>\n",
              "      <td>59278860</td>\n",
              "      <td>$124.28</td>\n",
              "      <td>$125.24</td>\n",
              "      <td>$124.05</td>\n",
              "    </tr>\n",
              "    <tr>\n",
              "      <th>6</th>\n",
              "      <td>2021-06-01</td>\n",
              "      <td>$124.28</td>\n",
              "      <td>67637120</td>\n",
              "      <td>$125.08</td>\n",
              "      <td>$125.35</td>\n",
              "      <td>$123.94</td>\n",
              "    </tr>\n",
              "    <tr>\n",
              "      <th>7</th>\n",
              "      <td>2021-05-28</td>\n",
              "      <td>$124.61</td>\n",
              "      <td>71311110</td>\n",
              "      <td>$125.57</td>\n",
              "      <td>$125.8</td>\n",
              "      <td>$124.55</td>\n",
              "    </tr>\n",
              "    <tr>\n",
              "      <th>8</th>\n",
              "      <td>2021-05-27</td>\n",
              "      <td>$125.28</td>\n",
              "      <td>94625600</td>\n",
              "      <td>$126.44</td>\n",
              "      <td>$127.64</td>\n",
              "      <td>$125.08</td>\n",
              "    </tr>\n",
              "    <tr>\n",
              "      <th>9</th>\n",
              "      <td>2021-05-26</td>\n",
              "      <td>$126.85</td>\n",
              "      <td>56575920</td>\n",
              "      <td>$126.955</td>\n",
              "      <td>$127.39</td>\n",
              "      <td>$126.42</td>\n",
              "    </tr>\n",
              "  </tbody>\n",
              "</table>\n",
              "</div>"
            ],
            "text/plain": [
              "        Date Close/Last    Volume      Open     High        Low\n",
              "0 2021-06-09    $127.13  56877940   $127.21  $127.75    $126.52\n",
              "1 2021-06-08    $126.74  74403770    $126.6  $128.46  $126.2101\n",
              "2 2021-06-07     $125.9  71057550   $126.17  $126.32  $124.8321\n",
              "3 2021-06-04    $125.89  75169340   $124.07  $126.16    $123.85\n",
              "4 2021-06-03    $123.54  76229170   $124.68  $124.85    $123.13\n",
              "5 2021-06-02    $125.06  59278860   $124.28  $125.24    $124.05\n",
              "6 2021-06-01    $124.28  67637120   $125.08  $125.35    $123.94\n",
              "7 2021-05-28    $124.61  71311110   $125.57   $125.8    $124.55\n",
              "8 2021-05-27    $125.28  94625600   $126.44  $127.64    $125.08\n",
              "9 2021-05-26    $126.85  56575920  $126.955  $127.39    $126.42"
            ]
          },
          "metadata": {
            "tags": []
          },
          "execution_count": 9
        }
      ]
    },
    {
      "cell_type": "code",
      "metadata": {
        "id": "QHm9r7WGS3Ll"
      },
      "source": [
        "df.sort_values('Date',inplace=True)"
      ],
      "execution_count": null,
      "outputs": []
    },
    {
      "cell_type": "code",
      "metadata": {
        "colab": {
          "base_uri": "https://localhost:8080/",
          "height": 424
        },
        "id": "LGDR73dSS_SV",
        "outputId": "3a03b688-af56-450d-c308-e1df07fd5cde"
      },
      "source": [
        "df.reset_index()"
      ],
      "execution_count": null,
      "outputs": [
        {
          "output_type": "execute_result",
          "data": {
            "text/html": [
              "<div>\n",
              "<style scoped>\n",
              "    .dataframe tbody tr th:only-of-type {\n",
              "        vertical-align: middle;\n",
              "    }\n",
              "\n",
              "    .dataframe tbody tr th {\n",
              "        vertical-align: top;\n",
              "    }\n",
              "\n",
              "    .dataframe thead th {\n",
              "        text-align: right;\n",
              "    }\n",
              "</style>\n",
              "<table border=\"1\" class=\"dataframe\">\n",
              "  <thead>\n",
              "    <tr style=\"text-align: right;\">\n",
              "      <th></th>\n",
              "      <th>index</th>\n",
              "      <th>Date</th>\n",
              "      <th>Close/Last</th>\n",
              "      <th>Volume</th>\n",
              "      <th>Open</th>\n",
              "      <th>High</th>\n",
              "      <th>Low</th>\n",
              "    </tr>\n",
              "  </thead>\n",
              "  <tbody>\n",
              "    <tr>\n",
              "      <th>0</th>\n",
              "      <td>2515</td>\n",
              "      <td>2011-06-10</td>\n",
              "      <td>$11.6393</td>\n",
              "      <td>433801306</td>\n",
              "      <td>$11.8054</td>\n",
              "      <td>$11.845</td>\n",
              "      <td>$11.6254</td>\n",
              "    </tr>\n",
              "    <tr>\n",
              "      <th>1</th>\n",
              "      <td>2514</td>\n",
              "      <td>2011-06-13</td>\n",
              "      <td>$11.6643</td>\n",
              "      <td>329376468</td>\n",
              "      <td>$11.6857</td>\n",
              "      <td>$11.7254</td>\n",
              "      <td>$11.6096</td>\n",
              "    </tr>\n",
              "    <tr>\n",
              "      <th>2</th>\n",
              "      <td>2513</td>\n",
              "      <td>2011-06-14</td>\n",
              "      <td>$11.8729</td>\n",
              "      <td>333995906</td>\n",
              "      <td>$11.7857</td>\n",
              "      <td>$11.9018</td>\n",
              "      <td>$11.7611</td>\n",
              "    </tr>\n",
              "    <tr>\n",
              "      <th>3</th>\n",
              "      <td>2512</td>\n",
              "      <td>2011-06-15</td>\n",
              "      <td>$11.6696</td>\n",
              "      <td>395841722</td>\n",
              "      <td>$11.7768</td>\n",
              "      <td>$11.7964</td>\n",
              "      <td>$11.6029</td>\n",
              "    </tr>\n",
              "    <tr>\n",
              "      <th>4</th>\n",
              "      <td>2511</td>\n",
              "      <td>2011-06-16</td>\n",
              "      <td>$11.6129</td>\n",
              "      <td>507299317</td>\n",
              "      <td>$11.675</td>\n",
              "      <td>$11.7386</td>\n",
              "      <td>$11.3689</td>\n",
              "    </tr>\n",
              "    <tr>\n",
              "      <th>...</th>\n",
              "      <td>...</td>\n",
              "      <td>...</td>\n",
              "      <td>...</td>\n",
              "      <td>...</td>\n",
              "      <td>...</td>\n",
              "      <td>...</td>\n",
              "      <td>...</td>\n",
              "    </tr>\n",
              "    <tr>\n",
              "      <th>2511</th>\n",
              "      <td>4</td>\n",
              "      <td>2021-06-03</td>\n",
              "      <td>$123.54</td>\n",
              "      <td>76229170</td>\n",
              "      <td>$124.68</td>\n",
              "      <td>$124.85</td>\n",
              "      <td>$123.13</td>\n",
              "    </tr>\n",
              "    <tr>\n",
              "      <th>2512</th>\n",
              "      <td>3</td>\n",
              "      <td>2021-06-04</td>\n",
              "      <td>$125.89</td>\n",
              "      <td>75169340</td>\n",
              "      <td>$124.07</td>\n",
              "      <td>$126.16</td>\n",
              "      <td>$123.85</td>\n",
              "    </tr>\n",
              "    <tr>\n",
              "      <th>2513</th>\n",
              "      <td>2</td>\n",
              "      <td>2021-06-07</td>\n",
              "      <td>$125.9</td>\n",
              "      <td>71057550</td>\n",
              "      <td>$126.17</td>\n",
              "      <td>$126.32</td>\n",
              "      <td>$124.8321</td>\n",
              "    </tr>\n",
              "    <tr>\n",
              "      <th>2514</th>\n",
              "      <td>1</td>\n",
              "      <td>2021-06-08</td>\n",
              "      <td>$126.74</td>\n",
              "      <td>74403770</td>\n",
              "      <td>$126.6</td>\n",
              "      <td>$128.46</td>\n",
              "      <td>$126.2101</td>\n",
              "    </tr>\n",
              "    <tr>\n",
              "      <th>2515</th>\n",
              "      <td>0</td>\n",
              "      <td>2021-06-09</td>\n",
              "      <td>$127.13</td>\n",
              "      <td>56877940</td>\n",
              "      <td>$127.21</td>\n",
              "      <td>$127.75</td>\n",
              "      <td>$126.52</td>\n",
              "    </tr>\n",
              "  </tbody>\n",
              "</table>\n",
              "<p>2516 rows × 7 columns</p>\n",
              "</div>"
            ],
            "text/plain": [
              "      index       Date Close/Last     Volume      Open      High        Low\n",
              "0      2515 2011-06-10   $11.6393  433801306  $11.8054   $11.845   $11.6254\n",
              "1      2514 2011-06-13   $11.6643  329376468  $11.6857  $11.7254   $11.6096\n",
              "2      2513 2011-06-14   $11.8729  333995906  $11.7857  $11.9018   $11.7611\n",
              "3      2512 2011-06-15   $11.6696  395841722  $11.7768  $11.7964   $11.6029\n",
              "4      2511 2011-06-16   $11.6129  507299317   $11.675  $11.7386   $11.3689\n",
              "...     ...        ...        ...        ...       ...       ...        ...\n",
              "2511      4 2021-06-03    $123.54   76229170   $124.68   $124.85    $123.13\n",
              "2512      3 2021-06-04    $125.89   75169340   $124.07   $126.16    $123.85\n",
              "2513      2 2021-06-07     $125.9   71057550   $126.17   $126.32  $124.8321\n",
              "2514      1 2021-06-08    $126.74   74403770    $126.6   $128.46  $126.2101\n",
              "2515      0 2021-06-09    $127.13   56877940   $127.21   $127.75    $126.52\n",
              "\n",
              "[2516 rows x 7 columns]"
            ]
          },
          "metadata": {
            "tags": []
          },
          "execution_count": 11
        }
      ]
    },
    {
      "cell_type": "code",
      "metadata": {
        "colab": {
          "base_uri": "https://localhost:8080/"
        },
        "id": "OVkALWcHWRCM",
        "outputId": "426589b0-6086-4e2d-d4e4-7acd601e62e1"
      },
      "source": [
        "df.columns"
      ],
      "execution_count": null,
      "outputs": [
        {
          "output_type": "execute_result",
          "data": {
            "text/plain": [
              "Index(['Date', 'Close/Last', 'Volume', 'Open', 'High', 'Low'], dtype='object')"
            ]
          },
          "metadata": {
            "tags": []
          },
          "execution_count": 12
        }
      ]
    },
    {
      "cell_type": "code",
      "metadata": {
        "id": "I-70qOd3audD"
      },
      "source": [
        "a=pd.merge(df1,df,how='inner',on=['Date'])"
      ],
      "execution_count": null,
      "outputs": []
    },
    {
      "cell_type": "code",
      "metadata": {
        "colab": {
          "base_uri": "https://localhost:8080/",
          "height": 206
        },
        "id": "3mEJLfxUcWsa",
        "outputId": "c715dcbd-2571-4903-bc5f-74983dc04721"
      },
      "source": [
        "a.head()"
      ],
      "execution_count": null,
      "outputs": [
        {
          "output_type": "execute_result",
          "data": {
            "text/html": [
              "<div>\n",
              "<style scoped>\n",
              "    .dataframe tbody tr th:only-of-type {\n",
              "        vertical-align: middle;\n",
              "    }\n",
              "\n",
              "    .dataframe tbody tr th {\n",
              "        vertical-align: top;\n",
              "    }\n",
              "\n",
              "    .dataframe thead th {\n",
              "        text-align: right;\n",
              "    }\n",
              "</style>\n",
              "<table border=\"1\" class=\"dataframe\">\n",
              "  <thead>\n",
              "    <tr style=\"text-align: right;\">\n",
              "      <th></th>\n",
              "      <th>Date</th>\n",
              "      <th>Headlines</th>\n",
              "      <th>Close/Last</th>\n",
              "      <th>Volume</th>\n",
              "      <th>Open</th>\n",
              "      <th>High</th>\n",
              "      <th>Low</th>\n",
              "    </tr>\n",
              "  </thead>\n",
              "  <tbody>\n",
              "    <tr>\n",
              "      <th>0</th>\n",
              "      <td>2015-04-01</td>\n",
              "      <td>Donald Yacktman on the Sources of Moats, His C...</td>\n",
              "      <td>$31.0625</td>\n",
              "      <td>161852560</td>\n",
              "      <td>$31.205</td>\n",
              "      <td>$31.28</td>\n",
              "      <td>$30.775</td>\n",
              "    </tr>\n",
              "    <tr>\n",
              "      <th>1</th>\n",
              "      <td>2015-05-01</td>\n",
              "      <td>SIM-free iPhone 6, 6 Plus reportedly debuting ...</td>\n",
              "      <td>$32.2375</td>\n",
              "      <td>229396000</td>\n",
              "      <td>$31.525</td>\n",
              "      <td>$32.5325</td>\n",
              "      <td>$31.325</td>\n",
              "    </tr>\n",
              "    <tr>\n",
              "      <th>2</th>\n",
              "      <td>2015-06-01</td>\n",
              "      <td>Technology Transforming Cars Into \"Phones On W...</td>\n",
              "      <td>$32.6337</td>\n",
              "      <td>128064080</td>\n",
              "      <td>$32.8</td>\n",
              "      <td>$32.8475</td>\n",
              "      <td>$32.5125</td>\n",
              "    </tr>\n",
              "    <tr>\n",
              "      <th>3</th>\n",
              "      <td>2015-07-01</td>\n",
              "      <td>Apple issues fourth developer beta of OS X 10....</td>\n",
              "      <td>$31.65</td>\n",
              "      <td>120827560</td>\n",
              "      <td>$31.725</td>\n",
              "      <td>$31.735</td>\n",
              "      <td>$31.4975</td>\n",
              "    </tr>\n",
              "    <tr>\n",
              "      <th>4</th>\n",
              "      <td>2015-09-01</td>\n",
              "      <td>Samsung is reportedly making a secret new chip...</td>\n",
              "      <td>$26.93</td>\n",
              "      <td>306248680</td>\n",
              "      <td>$27.5375</td>\n",
              "      <td>$27.97</td>\n",
              "      <td>$26.84</td>\n",
              "    </tr>\n",
              "  </tbody>\n",
              "</table>\n",
              "</div>"
            ],
            "text/plain": [
              "        Date  ...       Low\n",
              "0 2015-04-01  ...   $30.775\n",
              "1 2015-05-01  ...   $31.325\n",
              "2 2015-06-01  ...  $32.5125\n",
              "3 2015-07-01  ...  $31.4975\n",
              "4 2015-09-01  ...    $26.84\n",
              "\n",
              "[5 rows x 7 columns]"
            ]
          },
          "metadata": {
            "tags": []
          },
          "execution_count": 14
        }
      ]
    },
    {
      "cell_type": "code",
      "metadata": {
        "colab": {
          "base_uri": "https://localhost:8080/",
          "height": 206
        },
        "id": "Y8ziDqSlcX-o",
        "outputId": "f08f3626-bed6-400f-b91b-8ed72c8c81b9"
      },
      "source": [
        "a.tail()"
      ],
      "execution_count": null,
      "outputs": [
        {
          "output_type": "execute_result",
          "data": {
            "text/html": [
              "<div>\n",
              "<style scoped>\n",
              "    .dataframe tbody tr th:only-of-type {\n",
              "        vertical-align: middle;\n",
              "    }\n",
              "\n",
              "    .dataframe tbody tr th {\n",
              "        vertical-align: top;\n",
              "    }\n",
              "\n",
              "    .dataframe thead th {\n",
              "        text-align: right;\n",
              "    }\n",
              "</style>\n",
              "<table border=\"1\" class=\"dataframe\">\n",
              "  <thead>\n",
              "    <tr style=\"text-align: right;\">\n",
              "      <th></th>\n",
              "      <th>Date</th>\n",
              "      <th>Headlines</th>\n",
              "      <th>Close/Last</th>\n",
              "      <th>Volume</th>\n",
              "      <th>Open</th>\n",
              "      <th>High</th>\n",
              "      <th>Low</th>\n",
              "    </tr>\n",
              "  </thead>\n",
              "  <tbody>\n",
              "    <tr>\n",
              "      <th>1590</th>\n",
              "      <td>2021-05-27</td>\n",
              "      <td>&amp;quot;Friends: The Reunion&amp;quot;: The Best Non...</td>\n",
              "      <td>$125.28</td>\n",
              "      <td>94625600</td>\n",
              "      <td>$126.44</td>\n",
              "      <td>$127.64</td>\n",
              "      <td>$125.08</td>\n",
              "    </tr>\n",
              "    <tr>\n",
              "      <th>1591</th>\n",
              "      <td>2021-05-28</td>\n",
              "      <td>Apple pushes back launch of podcast subscripti...</td>\n",
              "      <td>$124.61</td>\n",
              "      <td>71311110</td>\n",
              "      <td>$125.57</td>\n",
              "      <td>$125.8</td>\n",
              "      <td>$124.55</td>\n",
              "    </tr>\n",
              "    <tr>\n",
              "      <th>1592</th>\n",
              "      <td>2021-01-06</td>\n",
              "      <td>Judge dismisses charges against Apple security...</td>\n",
              "      <td>$126.6</td>\n",
              "      <td>155088000</td>\n",
              "      <td>$127.72</td>\n",
              "      <td>$131.0499</td>\n",
              "      <td>$126.382</td>\n",
              "    </tr>\n",
              "    <tr>\n",
              "      <th>1593</th>\n",
              "      <td>2021-04-06</td>\n",
              "      <td>Global equities nearly grasp all-time record, ...</td>\n",
              "      <td>$126.21</td>\n",
              "      <td>80171250</td>\n",
              "      <td>$126.5</td>\n",
              "      <td>$127.13</td>\n",
              "      <td>$125.65</td>\n",
              "    </tr>\n",
              "    <tr>\n",
              "      <th>1594</th>\n",
              "      <td>2021-05-06</td>\n",
              "      <td>Apple employees want more remote-work flexibil...</td>\n",
              "      <td>$129.74</td>\n",
              "      <td>78128330</td>\n",
              "      <td>$127.89</td>\n",
              "      <td>$129.75</td>\n",
              "      <td>$127.13</td>\n",
              "    </tr>\n",
              "  </tbody>\n",
              "</table>\n",
              "</div>"
            ],
            "text/plain": [
              "           Date  ...       Low\n",
              "1590 2021-05-27  ...   $125.08\n",
              "1591 2021-05-28  ...   $124.55\n",
              "1592 2021-01-06  ...  $126.382\n",
              "1593 2021-04-06  ...   $125.65\n",
              "1594 2021-05-06  ...   $127.13\n",
              "\n",
              "[5 rows x 7 columns]"
            ]
          },
          "metadata": {
            "tags": []
          },
          "execution_count": 15
        }
      ]
    },
    {
      "cell_type": "code",
      "metadata": {
        "id": "HGDqI6pJcbAX"
      },
      "source": [
        "a[\"Close/Last\"]=a[\"Close/Last\"].str.replace('$', '').astype(float)\n",
        "a[\"Open\"]=a[\"Open\"].str.replace('$', '').astype(float)\n",
        "a[\"High\"]=a[\"High\"].str.replace('$', '').astype(float)\n",
        "a[\"Low\"]=a[\"Low\"].str.replace('$', '').astype(float)"
      ],
      "execution_count": null,
      "outputs": []
    },
    {
      "cell_type": "code",
      "metadata": {
        "colab": {
          "base_uri": "https://localhost:8080/",
          "height": 363
        },
        "id": "9PFBa7z_dPVQ",
        "outputId": "8500c81c-ccb2-4a87-c6d8-4716e41c1c62"
      },
      "source": [
        "a.head(10)"
      ],
      "execution_count": null,
      "outputs": [
        {
          "output_type": "execute_result",
          "data": {
            "text/html": [
              "<div>\n",
              "<style scoped>\n",
              "    .dataframe tbody tr th:only-of-type {\n",
              "        vertical-align: middle;\n",
              "    }\n",
              "\n",
              "    .dataframe tbody tr th {\n",
              "        vertical-align: top;\n",
              "    }\n",
              "\n",
              "    .dataframe thead th {\n",
              "        text-align: right;\n",
              "    }\n",
              "</style>\n",
              "<table border=\"1\" class=\"dataframe\">\n",
              "  <thead>\n",
              "    <tr style=\"text-align: right;\">\n",
              "      <th></th>\n",
              "      <th>Date</th>\n",
              "      <th>Headlines</th>\n",
              "      <th>Close/Last</th>\n",
              "      <th>Volume</th>\n",
              "      <th>Open</th>\n",
              "      <th>High</th>\n",
              "      <th>Low</th>\n",
              "    </tr>\n",
              "  </thead>\n",
              "  <tbody>\n",
              "    <tr>\n",
              "      <th>0</th>\n",
              "      <td>2015-04-01</td>\n",
              "      <td>Donald Yacktman on the Sources of Moats, His C...</td>\n",
              "      <td>31.0625</td>\n",
              "      <td>161852560</td>\n",
              "      <td>31.2050</td>\n",
              "      <td>31.2800</td>\n",
              "      <td>30.7750</td>\n",
              "    </tr>\n",
              "    <tr>\n",
              "      <th>1</th>\n",
              "      <td>2015-05-01</td>\n",
              "      <td>SIM-free iPhone 6, 6 Plus reportedly debuting ...</td>\n",
              "      <td>32.2375</td>\n",
              "      <td>229396000</td>\n",
              "      <td>31.5250</td>\n",
              "      <td>32.5325</td>\n",
              "      <td>31.3250</td>\n",
              "    </tr>\n",
              "    <tr>\n",
              "      <th>2</th>\n",
              "      <td>2015-06-01</td>\n",
              "      <td>Technology Transforming Cars Into \"Phones On W...</td>\n",
              "      <td>32.6337</td>\n",
              "      <td>128064080</td>\n",
              "      <td>32.8000</td>\n",
              "      <td>32.8475</td>\n",
              "      <td>32.5125</td>\n",
              "    </tr>\n",
              "    <tr>\n",
              "      <th>3</th>\n",
              "      <td>2015-07-01</td>\n",
              "      <td>Apple issues fourth developer beta of OS X 10....</td>\n",
              "      <td>31.6500</td>\n",
              "      <td>120827560</td>\n",
              "      <td>31.7250</td>\n",
              "      <td>31.7350</td>\n",
              "      <td>31.4975</td>\n",
              "    </tr>\n",
              "    <tr>\n",
              "      <th>4</th>\n",
              "      <td>2015-09-01</td>\n",
              "      <td>Samsung is reportedly making a secret new chip...</td>\n",
              "      <td>26.9300</td>\n",
              "      <td>306248680</td>\n",
              "      <td>27.5375</td>\n",
              "      <td>27.9700</td>\n",
              "      <td>26.8400</td>\n",
              "    </tr>\n",
              "    <tr>\n",
              "      <th>5</th>\n",
              "      <td>2015-10-01</td>\n",
              "      <td>Eight years ago, Steve Jobs unveiled iPhone an...</td>\n",
              "      <td>27.3950</td>\n",
              "      <td>255397880</td>\n",
              "      <td>27.2675</td>\n",
              "      <td>27.4050</td>\n",
              "      <td>26.8275</td>\n",
              "    </tr>\n",
              "    <tr>\n",
              "      <th>6</th>\n",
              "      <td>2015-12-01</td>\n",
              "      <td>Biz Break: HP, Apple had strong PC sales in ho...</td>\n",
              "      <td>29.3350</td>\n",
              "      <td>139225000</td>\n",
              "      <td>29.6875</td>\n",
              "      <td>29.7025</td>\n",
              "      <td>29.2150</td>\n",
              "    </tr>\n",
              "    <tr>\n",
              "      <th>7</th>\n",
              "      <td>2015-01-13</td>\n",
              "      <td>Apple camera patent gives GoPro stock jitters ...</td>\n",
              "      <td>27.5550</td>\n",
              "      <td>267879920</td>\n",
              "      <td>27.8575</td>\n",
              "      <td>28.2000</td>\n",
              "      <td>27.2275</td>\n",
              "    </tr>\n",
              "    <tr>\n",
              "      <th>8</th>\n",
              "      <td>2015-01-14</td>\n",
              "      <td>Machine Learning: Tips to Get the Most Out of ...</td>\n",
              "      <td>27.4500</td>\n",
              "      <td>194912760</td>\n",
              "      <td>27.2600</td>\n",
              "      <td>27.6225</td>\n",
              "      <td>27.1250</td>\n",
              "    </tr>\n",
              "    <tr>\n",
              "      <th>9</th>\n",
              "      <td>2015-01-15</td>\n",
              "      <td>Apple, Google settle U.S. poaching lawsuit for...</td>\n",
              "      <td>26.7050</td>\n",
              "      <td>239233880</td>\n",
              "      <td>27.5000</td>\n",
              "      <td>27.5150</td>\n",
              "      <td>26.6650</td>\n",
              "    </tr>\n",
              "  </tbody>\n",
              "</table>\n",
              "</div>"
            ],
            "text/plain": [
              "        Date  ...      Low\n",
              "0 2015-04-01  ...  30.7750\n",
              "1 2015-05-01  ...  31.3250\n",
              "2 2015-06-01  ...  32.5125\n",
              "3 2015-07-01  ...  31.4975\n",
              "4 2015-09-01  ...  26.8400\n",
              "5 2015-10-01  ...  26.8275\n",
              "6 2015-12-01  ...  29.2150\n",
              "7 2015-01-13  ...  27.2275\n",
              "8 2015-01-14  ...  27.1250\n",
              "9 2015-01-15  ...  26.6650\n",
              "\n",
              "[10 rows x 7 columns]"
            ]
          },
          "metadata": {
            "tags": []
          },
          "execution_count": 17
        }
      ]
    },
    {
      "cell_type": "code",
      "metadata": {
        "id": "OcORZTSddRz-"
      },
      "source": [
        "a.index=a['Date']"
      ],
      "execution_count": null,
      "outputs": []
    },
    {
      "cell_type": "code",
      "metadata": {
        "colab": {
          "base_uri": "https://localhost:8080/",
          "height": 238
        },
        "id": "WL-w_R9gdbbh",
        "outputId": "d1eb3d04-105f-4e5b-ba8c-a0bf5901bded"
      },
      "source": [
        "a.head()"
      ],
      "execution_count": null,
      "outputs": [
        {
          "output_type": "execute_result",
          "data": {
            "text/html": [
              "<div>\n",
              "<style scoped>\n",
              "    .dataframe tbody tr th:only-of-type {\n",
              "        vertical-align: middle;\n",
              "    }\n",
              "\n",
              "    .dataframe tbody tr th {\n",
              "        vertical-align: top;\n",
              "    }\n",
              "\n",
              "    .dataframe thead th {\n",
              "        text-align: right;\n",
              "    }\n",
              "</style>\n",
              "<table border=\"1\" class=\"dataframe\">\n",
              "  <thead>\n",
              "    <tr style=\"text-align: right;\">\n",
              "      <th></th>\n",
              "      <th>Date</th>\n",
              "      <th>Headlines</th>\n",
              "      <th>Close/Last</th>\n",
              "      <th>Volume</th>\n",
              "      <th>Open</th>\n",
              "      <th>High</th>\n",
              "      <th>Low</th>\n",
              "    </tr>\n",
              "    <tr>\n",
              "      <th>Date</th>\n",
              "      <th></th>\n",
              "      <th></th>\n",
              "      <th></th>\n",
              "      <th></th>\n",
              "      <th></th>\n",
              "      <th></th>\n",
              "      <th></th>\n",
              "    </tr>\n",
              "  </thead>\n",
              "  <tbody>\n",
              "    <tr>\n",
              "      <th>2015-04-01</th>\n",
              "      <td>2015-04-01</td>\n",
              "      <td>Donald Yacktman on the Sources of Moats, His C...</td>\n",
              "      <td>31.0625</td>\n",
              "      <td>161852560</td>\n",
              "      <td>31.2050</td>\n",
              "      <td>31.2800</td>\n",
              "      <td>30.7750</td>\n",
              "    </tr>\n",
              "    <tr>\n",
              "      <th>2015-05-01</th>\n",
              "      <td>2015-05-01</td>\n",
              "      <td>SIM-free iPhone 6, 6 Plus reportedly debuting ...</td>\n",
              "      <td>32.2375</td>\n",
              "      <td>229396000</td>\n",
              "      <td>31.5250</td>\n",
              "      <td>32.5325</td>\n",
              "      <td>31.3250</td>\n",
              "    </tr>\n",
              "    <tr>\n",
              "      <th>2015-06-01</th>\n",
              "      <td>2015-06-01</td>\n",
              "      <td>Technology Transforming Cars Into \"Phones On W...</td>\n",
              "      <td>32.6337</td>\n",
              "      <td>128064080</td>\n",
              "      <td>32.8000</td>\n",
              "      <td>32.8475</td>\n",
              "      <td>32.5125</td>\n",
              "    </tr>\n",
              "    <tr>\n",
              "      <th>2015-07-01</th>\n",
              "      <td>2015-07-01</td>\n",
              "      <td>Apple issues fourth developer beta of OS X 10....</td>\n",
              "      <td>31.6500</td>\n",
              "      <td>120827560</td>\n",
              "      <td>31.7250</td>\n",
              "      <td>31.7350</td>\n",
              "      <td>31.4975</td>\n",
              "    </tr>\n",
              "    <tr>\n",
              "      <th>2015-09-01</th>\n",
              "      <td>2015-09-01</td>\n",
              "      <td>Samsung is reportedly making a secret new chip...</td>\n",
              "      <td>26.9300</td>\n",
              "      <td>306248680</td>\n",
              "      <td>27.5375</td>\n",
              "      <td>27.9700</td>\n",
              "      <td>26.8400</td>\n",
              "    </tr>\n",
              "  </tbody>\n",
              "</table>\n",
              "</div>"
            ],
            "text/plain": [
              "                 Date  ...      Low\n",
              "Date                   ...         \n",
              "2015-04-01 2015-04-01  ...  30.7750\n",
              "2015-05-01 2015-05-01  ...  31.3250\n",
              "2015-06-01 2015-06-01  ...  32.5125\n",
              "2015-07-01 2015-07-01  ...  31.4975\n",
              "2015-09-01 2015-09-01  ...  26.8400\n",
              "\n",
              "[5 rows x 7 columns]"
            ]
          },
          "metadata": {
            "tags": []
          },
          "execution_count": 19
        }
      ]
    },
    {
      "cell_type": "code",
      "metadata": {
        "id": "-wFi2zxYdc0J"
      },
      "source": [
        "a.drop('Date',axis=1,inplace=True)"
      ],
      "execution_count": null,
      "outputs": []
    },
    {
      "cell_type": "code",
      "metadata": {
        "colab": {
          "base_uri": "https://localhost:8080/",
          "height": 238
        },
        "id": "Ke-tRJUYdl9f",
        "outputId": "dbddf4d8-792a-40c2-9a25-de6cf7fd2dde"
      },
      "source": [
        "a.head()"
      ],
      "execution_count": null,
      "outputs": [
        {
          "output_type": "execute_result",
          "data": {
            "text/html": [
              "<div>\n",
              "<style scoped>\n",
              "    .dataframe tbody tr th:only-of-type {\n",
              "        vertical-align: middle;\n",
              "    }\n",
              "\n",
              "    .dataframe tbody tr th {\n",
              "        vertical-align: top;\n",
              "    }\n",
              "\n",
              "    .dataframe thead th {\n",
              "        text-align: right;\n",
              "    }\n",
              "</style>\n",
              "<table border=\"1\" class=\"dataframe\">\n",
              "  <thead>\n",
              "    <tr style=\"text-align: right;\">\n",
              "      <th></th>\n",
              "      <th>Headlines</th>\n",
              "      <th>Close/Last</th>\n",
              "      <th>Volume</th>\n",
              "      <th>Open</th>\n",
              "      <th>High</th>\n",
              "      <th>Low</th>\n",
              "    </tr>\n",
              "    <tr>\n",
              "      <th>Date</th>\n",
              "      <th></th>\n",
              "      <th></th>\n",
              "      <th></th>\n",
              "      <th></th>\n",
              "      <th></th>\n",
              "      <th></th>\n",
              "    </tr>\n",
              "  </thead>\n",
              "  <tbody>\n",
              "    <tr>\n",
              "      <th>2015-04-01</th>\n",
              "      <td>Donald Yacktman on the Sources of Moats, His C...</td>\n",
              "      <td>31.0625</td>\n",
              "      <td>161852560</td>\n",
              "      <td>31.2050</td>\n",
              "      <td>31.2800</td>\n",
              "      <td>30.7750</td>\n",
              "    </tr>\n",
              "    <tr>\n",
              "      <th>2015-05-01</th>\n",
              "      <td>SIM-free iPhone 6, 6 Plus reportedly debuting ...</td>\n",
              "      <td>32.2375</td>\n",
              "      <td>229396000</td>\n",
              "      <td>31.5250</td>\n",
              "      <td>32.5325</td>\n",
              "      <td>31.3250</td>\n",
              "    </tr>\n",
              "    <tr>\n",
              "      <th>2015-06-01</th>\n",
              "      <td>Technology Transforming Cars Into \"Phones On W...</td>\n",
              "      <td>32.6337</td>\n",
              "      <td>128064080</td>\n",
              "      <td>32.8000</td>\n",
              "      <td>32.8475</td>\n",
              "      <td>32.5125</td>\n",
              "    </tr>\n",
              "    <tr>\n",
              "      <th>2015-07-01</th>\n",
              "      <td>Apple issues fourth developer beta of OS X 10....</td>\n",
              "      <td>31.6500</td>\n",
              "      <td>120827560</td>\n",
              "      <td>31.7250</td>\n",
              "      <td>31.7350</td>\n",
              "      <td>31.4975</td>\n",
              "    </tr>\n",
              "    <tr>\n",
              "      <th>2015-09-01</th>\n",
              "      <td>Samsung is reportedly making a secret new chip...</td>\n",
              "      <td>26.9300</td>\n",
              "      <td>306248680</td>\n",
              "      <td>27.5375</td>\n",
              "      <td>27.9700</td>\n",
              "      <td>26.8400</td>\n",
              "    </tr>\n",
              "  </tbody>\n",
              "</table>\n",
              "</div>"
            ],
            "text/plain": [
              "                                                    Headlines  ...      Low\n",
              "Date                                                           ...         \n",
              "2015-04-01  Donald Yacktman on the Sources of Moats, His C...  ...  30.7750\n",
              "2015-05-01  SIM-free iPhone 6, 6 Plus reportedly debuting ...  ...  31.3250\n",
              "2015-06-01  Technology Transforming Cars Into \"Phones On W...  ...  32.5125\n",
              "2015-07-01  Apple issues fourth developer beta of OS X 10....  ...  31.4975\n",
              "2015-09-01  Samsung is reportedly making a secret new chip...  ...  26.8400\n",
              "\n",
              "[5 rows x 6 columns]"
            ]
          },
          "metadata": {
            "tags": []
          },
          "execution_count": 21
        }
      ]
    },
    {
      "cell_type": "code",
      "metadata": {
        "id": "b80bd979dn5B"
      },
      "source": [
        "a.sort_index(ascending=True,inplace=True)"
      ],
      "execution_count": null,
      "outputs": []
    },
    {
      "cell_type": "code",
      "metadata": {
        "colab": {
          "base_uri": "https://localhost:8080/",
          "height": 394
        },
        "id": "Pmh17zirdpO7",
        "outputId": "a7d2844f-99e9-4e03-b336-d78e20b234bf"
      },
      "source": [
        "a.head(10)"
      ],
      "execution_count": null,
      "outputs": [
        {
          "output_type": "execute_result",
          "data": {
            "text/html": [
              "<div>\n",
              "<style scoped>\n",
              "    .dataframe tbody tr th:only-of-type {\n",
              "        vertical-align: middle;\n",
              "    }\n",
              "\n",
              "    .dataframe tbody tr th {\n",
              "        vertical-align: top;\n",
              "    }\n",
              "\n",
              "    .dataframe thead th {\n",
              "        text-align: right;\n",
              "    }\n",
              "</style>\n",
              "<table border=\"1\" class=\"dataframe\">\n",
              "  <thead>\n",
              "    <tr style=\"text-align: right;\">\n",
              "      <th></th>\n",
              "      <th>Headlines</th>\n",
              "      <th>Close/Last</th>\n",
              "      <th>Volume</th>\n",
              "      <th>Open</th>\n",
              "      <th>High</th>\n",
              "      <th>Low</th>\n",
              "    </tr>\n",
              "    <tr>\n",
              "      <th>Date</th>\n",
              "      <th></th>\n",
              "      <th></th>\n",
              "      <th></th>\n",
              "      <th></th>\n",
              "      <th></th>\n",
              "      <th></th>\n",
              "    </tr>\n",
              "  </thead>\n",
              "  <tbody>\n",
              "    <tr>\n",
              "      <th>2015-01-02</th>\n",
              "      <td>Apple Loop: iOS 8.1.3 Angers Users, Outlook Ar...</td>\n",
              "      <td>27.3325</td>\n",
              "      <td>212575080</td>\n",
              "      <td>27.8475</td>\n",
              "      <td>27.8600</td>\n",
              "      <td>26.8375</td>\n",
              "    </tr>\n",
              "    <tr>\n",
              "      <th>2015-01-05</th>\n",
              "      <td>Apple Watch interest described as &amp;quot;tepid,...</td>\n",
              "      <td>26.5625</td>\n",
              "      <td>256843520</td>\n",
              "      <td>27.0725</td>\n",
              "      <td>27.1625</td>\n",
              "      <td>26.3525</td>\n",
              "    </tr>\n",
              "    <tr>\n",
              "      <th>2015-01-06</th>\n",
              "      <td>Apple&amp;quot;s TV Service Delayed: Getting Local...</td>\n",
              "      <td>26.5650</td>\n",
              "      <td>262729000</td>\n",
              "      <td>26.6350</td>\n",
              "      <td>26.8575</td>\n",
              "      <td>26.1575</td>\n",
              "    </tr>\n",
              "    <tr>\n",
              "      <th>2015-01-07</th>\n",
              "      <td>Apple Inc. leaks new iPod colors in iTunes 12....</td>\n",
              "      <td>26.9375</td>\n",
              "      <td>159933400</td>\n",
              "      <td>26.8000</td>\n",
              "      <td>27.0500</td>\n",
              "      <td>26.6737</td>\n",
              "    </tr>\n",
              "    <tr>\n",
              "      <th>2015-01-08</th>\n",
              "      <td>Nomura Begins Coverage on Apple (AAPL) IBM cou...</td>\n",
              "      <td>27.9725</td>\n",
              "      <td>236675040</td>\n",
              "      <td>27.3075</td>\n",
              "      <td>28.0375</td>\n",
              "      <td>27.1750</td>\n",
              "    </tr>\n",
              "    <tr>\n",
              "      <th>2015-01-09</th>\n",
              "      <td>Google&amp;quot;s (GOOGL) Self-Driving Cars to Hit...</td>\n",
              "      <td>28.0025</td>\n",
              "      <td>214582920</td>\n",
              "      <td>28.1675</td>\n",
              "      <td>28.3125</td>\n",
              "      <td>27.5525</td>\n",
              "    </tr>\n",
              "    <tr>\n",
              "      <th>2015-01-12</th>\n",
              "      <td>Microsoft Surface gaining on Apple iPad in tab...</td>\n",
              "      <td>27.3125</td>\n",
              "      <td>198284680</td>\n",
              "      <td>28.1500</td>\n",
              "      <td>28.1575</td>\n",
              "      <td>27.2000</td>\n",
              "    </tr>\n",
              "    <tr>\n",
              "      <th>2015-01-13</th>\n",
              "      <td>Apple camera patent gives GoPro stock jitters ...</td>\n",
              "      <td>27.5550</td>\n",
              "      <td>267879920</td>\n",
              "      <td>27.8575</td>\n",
              "      <td>28.2000</td>\n",
              "      <td>27.2275</td>\n",
              "    </tr>\n",
              "    <tr>\n",
              "      <th>2015-01-14</th>\n",
              "      <td>Machine Learning: Tips to Get the Most Out of ...</td>\n",
              "      <td>27.4500</td>\n",
              "      <td>194912760</td>\n",
              "      <td>27.2600</td>\n",
              "      <td>27.6225</td>\n",
              "      <td>27.1250</td>\n",
              "    </tr>\n",
              "    <tr>\n",
              "      <th>2015-01-15</th>\n",
              "      <td>Apple, Google settle U.S. poaching lawsuit for...</td>\n",
              "      <td>26.7050</td>\n",
              "      <td>239233880</td>\n",
              "      <td>27.5000</td>\n",
              "      <td>27.5150</td>\n",
              "      <td>26.6650</td>\n",
              "    </tr>\n",
              "  </tbody>\n",
              "</table>\n",
              "</div>"
            ],
            "text/plain": [
              "                                                    Headlines  ...      Low\n",
              "Date                                                           ...         \n",
              "2015-01-02  Apple Loop: iOS 8.1.3 Angers Users, Outlook Ar...  ...  26.8375\n",
              "2015-01-05  Apple Watch interest described as &quot;tepid,...  ...  26.3525\n",
              "2015-01-06  Apple&quot;s TV Service Delayed: Getting Local...  ...  26.1575\n",
              "2015-01-07  Apple Inc. leaks new iPod colors in iTunes 12....  ...  26.6737\n",
              "2015-01-08  Nomura Begins Coverage on Apple (AAPL) IBM cou...  ...  27.1750\n",
              "2015-01-09  Google&quot;s (GOOGL) Self-Driving Cars to Hit...  ...  27.5525\n",
              "2015-01-12  Microsoft Surface gaining on Apple iPad in tab...  ...  27.2000\n",
              "2015-01-13  Apple camera patent gives GoPro stock jitters ...  ...  27.2275\n",
              "2015-01-14  Machine Learning: Tips to Get the Most Out of ...  ...  27.1250\n",
              "2015-01-15  Apple, Google settle U.S. poaching lawsuit for...  ...  26.6650\n",
              "\n",
              "[10 rows x 6 columns]"
            ]
          },
          "metadata": {
            "tags": []
          },
          "execution_count": 23
        }
      ]
    },
    {
      "cell_type": "code",
      "metadata": {
        "id": "RW_ba18sewzH"
      },
      "source": [
        "import os"
      ],
      "execution_count": null,
      "outputs": []
    },
    {
      "cell_type": "code",
      "metadata": {
        "id": "h0OC9aJOd3qg"
      },
      "source": [
        "a.to_csv('News and Historical data append.csv')"
      ],
      "execution_count": null,
      "outputs": []
    },
    {
      "cell_type": "code",
      "metadata": {
        "colab": {
          "base_uri": "https://localhost:8080/",
          "height": 36
        },
        "id": "GB8VelKMeZBO",
        "outputId": "bf1bf616-518a-440d-c354-66e11e79c134"
      },
      "source": [
        "os.getcwd()"
      ],
      "execution_count": null,
      "outputs": [
        {
          "output_type": "execute_result",
          "data": {
            "application/vnd.google.colaboratory.intrinsic+json": {
              "type": "string"
            },
            "text/plain": [
              "'/content'"
            ]
          },
          "metadata": {
            "tags": []
          },
          "execution_count": 26
        }
      ]
    },
    {
      "cell_type": "code",
      "metadata": {
        "id": "aB_vXvxpe0MZ",
        "colab": {
          "base_uri": "https://localhost:8080/",
          "height": 324
        },
        "outputId": "05b9197c-d276-434e-ed33-d7ae6a7d696f"
      },
      "source": [
        "a['compound'] = ''\n",
        "a['negative'] = ''\n",
        "a['neutral'] = ''\n",
        "a['positive'] = ''\n",
        "a.head()"
      ],
      "execution_count": null,
      "outputs": [
        {
          "output_type": "execute_result",
          "data": {
            "text/html": [
              "<div>\n",
              "<style scoped>\n",
              "    .dataframe tbody tr th:only-of-type {\n",
              "        vertical-align: middle;\n",
              "    }\n",
              "\n",
              "    .dataframe tbody tr th {\n",
              "        vertical-align: top;\n",
              "    }\n",
              "\n",
              "    .dataframe thead th {\n",
              "        text-align: right;\n",
              "    }\n",
              "</style>\n",
              "<table border=\"1\" class=\"dataframe\">\n",
              "  <thead>\n",
              "    <tr style=\"text-align: right;\">\n",
              "      <th></th>\n",
              "      <th>Headlines</th>\n",
              "      <th>Close/Last</th>\n",
              "      <th>Volume</th>\n",
              "      <th>Open</th>\n",
              "      <th>High</th>\n",
              "      <th>Low</th>\n",
              "      <th>compound</th>\n",
              "      <th>negative</th>\n",
              "      <th>neutral</th>\n",
              "      <th>positive</th>\n",
              "    </tr>\n",
              "    <tr>\n",
              "      <th>Date</th>\n",
              "      <th></th>\n",
              "      <th></th>\n",
              "      <th></th>\n",
              "      <th></th>\n",
              "      <th></th>\n",
              "      <th></th>\n",
              "      <th></th>\n",
              "      <th></th>\n",
              "      <th></th>\n",
              "      <th></th>\n",
              "    </tr>\n",
              "  </thead>\n",
              "  <tbody>\n",
              "    <tr>\n",
              "      <th>2015-01-02</th>\n",
              "      <td>Apple Loop: iOS 8.1.3 Angers Users, Outlook Ar...</td>\n",
              "      <td>27.3325</td>\n",
              "      <td>212575080</td>\n",
              "      <td>27.8475</td>\n",
              "      <td>27.8600</td>\n",
              "      <td>26.8375</td>\n",
              "      <td></td>\n",
              "      <td></td>\n",
              "      <td></td>\n",
              "      <td></td>\n",
              "    </tr>\n",
              "    <tr>\n",
              "      <th>2015-01-05</th>\n",
              "      <td>Apple Watch interest described as &amp;quot;tepid,...</td>\n",
              "      <td>26.5625</td>\n",
              "      <td>256843520</td>\n",
              "      <td>27.0725</td>\n",
              "      <td>27.1625</td>\n",
              "      <td>26.3525</td>\n",
              "      <td></td>\n",
              "      <td></td>\n",
              "      <td></td>\n",
              "      <td></td>\n",
              "    </tr>\n",
              "    <tr>\n",
              "      <th>2015-01-06</th>\n",
              "      <td>Apple&amp;quot;s TV Service Delayed: Getting Local...</td>\n",
              "      <td>26.5650</td>\n",
              "      <td>262729000</td>\n",
              "      <td>26.6350</td>\n",
              "      <td>26.8575</td>\n",
              "      <td>26.1575</td>\n",
              "      <td></td>\n",
              "      <td></td>\n",
              "      <td></td>\n",
              "      <td></td>\n",
              "    </tr>\n",
              "    <tr>\n",
              "      <th>2015-01-07</th>\n",
              "      <td>Apple Inc. leaks new iPod colors in iTunes 12....</td>\n",
              "      <td>26.9375</td>\n",
              "      <td>159933400</td>\n",
              "      <td>26.8000</td>\n",
              "      <td>27.0500</td>\n",
              "      <td>26.6737</td>\n",
              "      <td></td>\n",
              "      <td></td>\n",
              "      <td></td>\n",
              "      <td></td>\n",
              "    </tr>\n",
              "    <tr>\n",
              "      <th>2015-01-08</th>\n",
              "      <td>Nomura Begins Coverage on Apple (AAPL) IBM cou...</td>\n",
              "      <td>27.9725</td>\n",
              "      <td>236675040</td>\n",
              "      <td>27.3075</td>\n",
              "      <td>28.0375</td>\n",
              "      <td>27.1750</td>\n",
              "      <td></td>\n",
              "      <td></td>\n",
              "      <td></td>\n",
              "      <td></td>\n",
              "    </tr>\n",
              "  </tbody>\n",
              "</table>\n",
              "</div>"
            ],
            "text/plain": [
              "                                                    Headlines  ...  positive\n",
              "Date                                                           ...          \n",
              "2015-01-02  Apple Loop: iOS 8.1.3 Angers Users, Outlook Ar...  ...          \n",
              "2015-01-05  Apple Watch interest described as &quot;tepid,...  ...          \n",
              "2015-01-06  Apple&quot;s TV Service Delayed: Getting Local...  ...          \n",
              "2015-01-07  Apple Inc. leaks new iPod colors in iTunes 12....  ...          \n",
              "2015-01-08  Nomura Begins Coverage on Apple (AAPL) IBM cou...  ...          \n",
              "\n",
              "[5 rows x 10 columns]"
            ]
          },
          "metadata": {
            "tags": []
          },
          "execution_count": 27
        }
      ]
    },
    {
      "cell_type": "code",
      "metadata": {
        "colab": {
          "base_uri": "https://localhost:8080/"
        },
        "id": "j61Bv0kFMPLE",
        "outputId": "95a93be4-58eb-4c74-ddea-158a2058ab48"
      },
      "source": [
        "import nltk\n",
        "nltk.download('vader_lexicon')"
      ],
      "execution_count": null,
      "outputs": [
        {
          "output_type": "stream",
          "text": [
            "[nltk_data] Downloading package vader_lexicon to /root/nltk_data...\n",
            "[nltk_data]   Package vader_lexicon is already up-to-date!\n"
          ],
          "name": "stdout"
        },
        {
          "output_type": "execute_result",
          "data": {
            "text/plain": [
              "True"
            ]
          },
          "metadata": {
            "tags": []
          },
          "execution_count": 28
        }
      ]
    },
    {
      "cell_type": "code",
      "metadata": {
        "colab": {
          "base_uri": "https://localhost:8080/",
          "height": 381
        },
        "id": "Yoi64VnsLuJo",
        "outputId": "1616bc22-5421-44b5-b2c3-330ffd8e2a24"
      },
      "source": [
        "from nltk.sentiment.vader import SentimentIntensityAnalyzer\n",
        "import unicodedata\n",
        "\n",
        "# instantiating the Sentiment Analyzer\n",
        "sid = SentimentIntensityAnalyzer()\n",
        "\n",
        "# calculating sentiment scores\n",
        "a['compound'] = a['Headlines'].apply(lambda x: sid.polarity_scores(x)['compound'])\n",
        "a['negative'] = a['Headlines'].apply(lambda x: sid.polarity_scores(x)['neg'])\n",
        "a['neutral'] = a['Headlines'].apply(lambda x: sid.polarity_scores(x)['neu'])\n",
        "a['positive'] = a['Headlines'].apply(lambda x: sid.polarity_scores(x)['pos'])\n",
        "\n",
        "# displaying the stock data\n",
        "a.head()"
      ],
      "execution_count": null,
      "outputs": [
        {
          "output_type": "stream",
          "text": [
            "/usr/local/lib/python3.7/dist-packages/nltk/twitter/__init__.py:20: UserWarning: The twython library has not been installed. Some functionality from the twitter package will not be available.\n",
            "  warnings.warn(\"The twython library has not been installed. \"\n"
          ],
          "name": "stderr"
        },
        {
          "output_type": "execute_result",
          "data": {
            "text/html": [
              "<div>\n",
              "<style scoped>\n",
              "    .dataframe tbody tr th:only-of-type {\n",
              "        vertical-align: middle;\n",
              "    }\n",
              "\n",
              "    .dataframe tbody tr th {\n",
              "        vertical-align: top;\n",
              "    }\n",
              "\n",
              "    .dataframe thead th {\n",
              "        text-align: right;\n",
              "    }\n",
              "</style>\n",
              "<table border=\"1\" class=\"dataframe\">\n",
              "  <thead>\n",
              "    <tr style=\"text-align: right;\">\n",
              "      <th></th>\n",
              "      <th>Headlines</th>\n",
              "      <th>Close/Last</th>\n",
              "      <th>Volume</th>\n",
              "      <th>Open</th>\n",
              "      <th>High</th>\n",
              "      <th>Low</th>\n",
              "      <th>compound</th>\n",
              "      <th>negative</th>\n",
              "      <th>neutral</th>\n",
              "      <th>positive</th>\n",
              "    </tr>\n",
              "    <tr>\n",
              "      <th>Date</th>\n",
              "      <th></th>\n",
              "      <th></th>\n",
              "      <th></th>\n",
              "      <th></th>\n",
              "      <th></th>\n",
              "      <th></th>\n",
              "      <th></th>\n",
              "      <th></th>\n",
              "      <th></th>\n",
              "      <th></th>\n",
              "    </tr>\n",
              "  </thead>\n",
              "  <tbody>\n",
              "    <tr>\n",
              "      <th>2015-01-02</th>\n",
              "      <td>Apple Loop: iOS 8.1.3 Angers Users, Outlook Ar...</td>\n",
              "      <td>27.3325</td>\n",
              "      <td>212575080</td>\n",
              "      <td>27.8475</td>\n",
              "      <td>27.8600</td>\n",
              "      <td>26.8375</td>\n",
              "      <td>0.1943</td>\n",
              "      <td>0.116</td>\n",
              "      <td>0.749</td>\n",
              "      <td>0.135</td>\n",
              "    </tr>\n",
              "    <tr>\n",
              "      <th>2015-01-05</th>\n",
              "      <td>Apple Watch interest described as &amp;quot;tepid,...</td>\n",
              "      <td>26.5625</td>\n",
              "      <td>256843520</td>\n",
              "      <td>27.0725</td>\n",
              "      <td>27.1625</td>\n",
              "      <td>26.3525</td>\n",
              "      <td>0.9748</td>\n",
              "      <td>0.061</td>\n",
              "      <td>0.831</td>\n",
              "      <td>0.107</td>\n",
              "    </tr>\n",
              "    <tr>\n",
              "      <th>2015-01-06</th>\n",
              "      <td>Apple&amp;quot;s TV Service Delayed: Getting Local...</td>\n",
              "      <td>26.5650</td>\n",
              "      <td>262729000</td>\n",
              "      <td>26.6350</td>\n",
              "      <td>26.8575</td>\n",
              "      <td>26.1575</td>\n",
              "      <td>0.9932</td>\n",
              "      <td>0.034</td>\n",
              "      <td>0.862</td>\n",
              "      <td>0.105</td>\n",
              "    </tr>\n",
              "    <tr>\n",
              "      <th>2015-01-07</th>\n",
              "      <td>Apple Inc. leaks new iPod colors in iTunes 12....</td>\n",
              "      <td>26.9375</td>\n",
              "      <td>159933400</td>\n",
              "      <td>26.8000</td>\n",
              "      <td>27.0500</td>\n",
              "      <td>26.6737</td>\n",
              "      <td>0.9866</td>\n",
              "      <td>0.059</td>\n",
              "      <td>0.812</td>\n",
              "      <td>0.129</td>\n",
              "    </tr>\n",
              "    <tr>\n",
              "      <th>2015-01-08</th>\n",
              "      <td>Nomura Begins Coverage on Apple (AAPL) IBM cou...</td>\n",
              "      <td>27.9725</td>\n",
              "      <td>236675040</td>\n",
              "      <td>27.3075</td>\n",
              "      <td>28.0375</td>\n",
              "      <td>27.1750</td>\n",
              "      <td>0.4939</td>\n",
              "      <td>0.059</td>\n",
              "      <td>0.827</td>\n",
              "      <td>0.114</td>\n",
              "    </tr>\n",
              "  </tbody>\n",
              "</table>\n",
              "</div>"
            ],
            "text/plain": [
              "                                                    Headlines  ...  positive\n",
              "Date                                                           ...          \n",
              "2015-01-02  Apple Loop: iOS 8.1.3 Angers Users, Outlook Ar...  ...     0.135\n",
              "2015-01-05  Apple Watch interest described as &quot;tepid,...  ...     0.107\n",
              "2015-01-06  Apple&quot;s TV Service Delayed: Getting Local...  ...     0.105\n",
              "2015-01-07  Apple Inc. leaks new iPod colors in iTunes 12....  ...     0.129\n",
              "2015-01-08  Nomura Begins Coverage on Apple (AAPL) IBM cou...  ...     0.114\n",
              "\n",
              "[5 rows x 10 columns]"
            ]
          },
          "metadata": {
            "tags": []
          },
          "execution_count": 29
        }
      ]
    },
    {
      "cell_type": "code",
      "metadata": {
        "colab": {
          "base_uri": "https://localhost:8080/"
        },
        "id": "tIrFyw-9NPlF",
        "outputId": "49eb488f-5e61-4875-f5ac-2ba62dfe8f59"
      },
      "source": [
        "a.columns"
      ],
      "execution_count": null,
      "outputs": [
        {
          "output_type": "execute_result",
          "data": {
            "text/plain": [
              "Index(['Headlines', 'Close/Last', 'Volume', 'Open', 'High', 'Low', 'compound',\n",
              "       'negative', 'neutral', 'positive'],\n",
              "      dtype='object')"
            ]
          },
          "metadata": {
            "tags": []
          },
          "execution_count": 30
        }
      ]
    },
    {
      "cell_type": "code",
      "metadata": {
        "colab": {
          "base_uri": "https://localhost:8080/",
          "height": 238
        },
        "id": "IaEebYwKMJyT",
        "outputId": "100604a5-199d-4320-8a38-18fd8004493b"
      },
      "source": [
        "#a.drop('Headlines', inplace=True, axis=1)\n",
        "\n",
        "# rearranging the columns of the whole stock_data\n",
        "a = a[['Close/Last', 'compound', 'negative', 'neutral', 'positive', 'Open', 'High', 'Low', 'Volume']]\n",
        "\n",
        "# displaying the final stock_data\n",
        "a.head()"
      ],
      "execution_count": null,
      "outputs": [
        {
          "output_type": "execute_result",
          "data": {
            "text/html": [
              "<div>\n",
              "<style scoped>\n",
              "    .dataframe tbody tr th:only-of-type {\n",
              "        vertical-align: middle;\n",
              "    }\n",
              "\n",
              "    .dataframe tbody tr th {\n",
              "        vertical-align: top;\n",
              "    }\n",
              "\n",
              "    .dataframe thead th {\n",
              "        text-align: right;\n",
              "    }\n",
              "</style>\n",
              "<table border=\"1\" class=\"dataframe\">\n",
              "  <thead>\n",
              "    <tr style=\"text-align: right;\">\n",
              "      <th></th>\n",
              "      <th>Close/Last</th>\n",
              "      <th>compound</th>\n",
              "      <th>negative</th>\n",
              "      <th>neutral</th>\n",
              "      <th>positive</th>\n",
              "      <th>Open</th>\n",
              "      <th>High</th>\n",
              "      <th>Low</th>\n",
              "      <th>Volume</th>\n",
              "    </tr>\n",
              "    <tr>\n",
              "      <th>Date</th>\n",
              "      <th></th>\n",
              "      <th></th>\n",
              "      <th></th>\n",
              "      <th></th>\n",
              "      <th></th>\n",
              "      <th></th>\n",
              "      <th></th>\n",
              "      <th></th>\n",
              "      <th></th>\n",
              "    </tr>\n",
              "  </thead>\n",
              "  <tbody>\n",
              "    <tr>\n",
              "      <th>2015-01-02</th>\n",
              "      <td>27.3325</td>\n",
              "      <td>0.1943</td>\n",
              "      <td>0.116</td>\n",
              "      <td>0.749</td>\n",
              "      <td>0.135</td>\n",
              "      <td>27.8475</td>\n",
              "      <td>27.8600</td>\n",
              "      <td>26.8375</td>\n",
              "      <td>212575080</td>\n",
              "    </tr>\n",
              "    <tr>\n",
              "      <th>2015-01-05</th>\n",
              "      <td>26.5625</td>\n",
              "      <td>0.9748</td>\n",
              "      <td>0.061</td>\n",
              "      <td>0.831</td>\n",
              "      <td>0.107</td>\n",
              "      <td>27.0725</td>\n",
              "      <td>27.1625</td>\n",
              "      <td>26.3525</td>\n",
              "      <td>256843520</td>\n",
              "    </tr>\n",
              "    <tr>\n",
              "      <th>2015-01-06</th>\n",
              "      <td>26.5650</td>\n",
              "      <td>0.9932</td>\n",
              "      <td>0.034</td>\n",
              "      <td>0.862</td>\n",
              "      <td>0.105</td>\n",
              "      <td>26.6350</td>\n",
              "      <td>26.8575</td>\n",
              "      <td>26.1575</td>\n",
              "      <td>262729000</td>\n",
              "    </tr>\n",
              "    <tr>\n",
              "      <th>2015-01-07</th>\n",
              "      <td>26.9375</td>\n",
              "      <td>0.9866</td>\n",
              "      <td>0.059</td>\n",
              "      <td>0.812</td>\n",
              "      <td>0.129</td>\n",
              "      <td>26.8000</td>\n",
              "      <td>27.0500</td>\n",
              "      <td>26.6737</td>\n",
              "      <td>159933400</td>\n",
              "    </tr>\n",
              "    <tr>\n",
              "      <th>2015-01-08</th>\n",
              "      <td>27.9725</td>\n",
              "      <td>0.4939</td>\n",
              "      <td>0.059</td>\n",
              "      <td>0.827</td>\n",
              "      <td>0.114</td>\n",
              "      <td>27.3075</td>\n",
              "      <td>28.0375</td>\n",
              "      <td>27.1750</td>\n",
              "      <td>236675040</td>\n",
              "    </tr>\n",
              "  </tbody>\n",
              "</table>\n",
              "</div>"
            ],
            "text/plain": [
              "            Close/Last  compound  negative  ...     High      Low     Volume\n",
              "Date                                        ...                             \n",
              "2015-01-02     27.3325    0.1943     0.116  ...  27.8600  26.8375  212575080\n",
              "2015-01-05     26.5625    0.9748     0.061  ...  27.1625  26.3525  256843520\n",
              "2015-01-06     26.5650    0.9932     0.034  ...  26.8575  26.1575  262729000\n",
              "2015-01-07     26.9375    0.9866     0.059  ...  27.0500  26.6737  159933400\n",
              "2015-01-08     27.9725    0.4939     0.059  ...  28.0375  27.1750  236675040\n",
              "\n",
              "[5 rows x 9 columns]"
            ]
          },
          "metadata": {
            "tags": []
          },
          "execution_count": 31
        }
      ]
    },
    {
      "cell_type": "code",
      "metadata": {
        "id": "hYTwjoaqM3QK"
      },
      "source": [
        "a.to_csv('stock_data.csv')"
      ],
      "execution_count": null,
      "outputs": []
    },
    {
      "cell_type": "code",
      "metadata": {
        "colab": {
          "base_uri": "https://localhost:8080/",
          "height": 238
        },
        "id": "FMXwTgwANshq",
        "outputId": "4b015071-f1f9-4b1a-8227-3fb46c1c7cde"
      },
      "source": [
        "stock_data = pd.read_csv('/content/stock_data.csv', index_col = False)\n",
        "\n",
        "# renaming the column\n",
        "stock_data.rename(columns={'Unnamed: 0':'Date'}, inplace = True)\n",
        "\n",
        "# setting the column 'Date' as the index column\n",
        "stock_data.set_index('Date', inplace=True)\n",
        "\n",
        "# displaying the stock_data\n",
        "stock_data.head()"
      ],
      "execution_count": null,
      "outputs": [
        {
          "output_type": "execute_result",
          "data": {
            "text/html": [
              "<div>\n",
              "<style scoped>\n",
              "    .dataframe tbody tr th:only-of-type {\n",
              "        vertical-align: middle;\n",
              "    }\n",
              "\n",
              "    .dataframe tbody tr th {\n",
              "        vertical-align: top;\n",
              "    }\n",
              "\n",
              "    .dataframe thead th {\n",
              "        text-align: right;\n",
              "    }\n",
              "</style>\n",
              "<table border=\"1\" class=\"dataframe\">\n",
              "  <thead>\n",
              "    <tr style=\"text-align: right;\">\n",
              "      <th></th>\n",
              "      <th>Close/Last</th>\n",
              "      <th>compound</th>\n",
              "      <th>negative</th>\n",
              "      <th>neutral</th>\n",
              "      <th>positive</th>\n",
              "      <th>Open</th>\n",
              "      <th>High</th>\n",
              "      <th>Low</th>\n",
              "      <th>Volume</th>\n",
              "    </tr>\n",
              "    <tr>\n",
              "      <th>Date</th>\n",
              "      <th></th>\n",
              "      <th></th>\n",
              "      <th></th>\n",
              "      <th></th>\n",
              "      <th></th>\n",
              "      <th></th>\n",
              "      <th></th>\n",
              "      <th></th>\n",
              "      <th></th>\n",
              "    </tr>\n",
              "  </thead>\n",
              "  <tbody>\n",
              "    <tr>\n",
              "      <th>2015-01-02</th>\n",
              "      <td>27.3325</td>\n",
              "      <td>0.1943</td>\n",
              "      <td>0.116</td>\n",
              "      <td>0.749</td>\n",
              "      <td>0.135</td>\n",
              "      <td>27.8475</td>\n",
              "      <td>27.8600</td>\n",
              "      <td>26.8375</td>\n",
              "      <td>212575080</td>\n",
              "    </tr>\n",
              "    <tr>\n",
              "      <th>2015-01-05</th>\n",
              "      <td>26.5625</td>\n",
              "      <td>0.9748</td>\n",
              "      <td>0.061</td>\n",
              "      <td>0.831</td>\n",
              "      <td>0.107</td>\n",
              "      <td>27.0725</td>\n",
              "      <td>27.1625</td>\n",
              "      <td>26.3525</td>\n",
              "      <td>256843520</td>\n",
              "    </tr>\n",
              "    <tr>\n",
              "      <th>2015-01-06</th>\n",
              "      <td>26.5650</td>\n",
              "      <td>0.9932</td>\n",
              "      <td>0.034</td>\n",
              "      <td>0.862</td>\n",
              "      <td>0.105</td>\n",
              "      <td>26.6350</td>\n",
              "      <td>26.8575</td>\n",
              "      <td>26.1575</td>\n",
              "      <td>262729000</td>\n",
              "    </tr>\n",
              "    <tr>\n",
              "      <th>2015-01-07</th>\n",
              "      <td>26.9375</td>\n",
              "      <td>0.9866</td>\n",
              "      <td>0.059</td>\n",
              "      <td>0.812</td>\n",
              "      <td>0.129</td>\n",
              "      <td>26.8000</td>\n",
              "      <td>27.0500</td>\n",
              "      <td>26.6737</td>\n",
              "      <td>159933400</td>\n",
              "    </tr>\n",
              "    <tr>\n",
              "      <th>2015-01-08</th>\n",
              "      <td>27.9725</td>\n",
              "      <td>0.4939</td>\n",
              "      <td>0.059</td>\n",
              "      <td>0.827</td>\n",
              "      <td>0.114</td>\n",
              "      <td>27.3075</td>\n",
              "      <td>28.0375</td>\n",
              "      <td>27.1750</td>\n",
              "      <td>236675040</td>\n",
              "    </tr>\n",
              "  </tbody>\n",
              "</table>\n",
              "</div>"
            ],
            "text/plain": [
              "            Close/Last  compound  negative  ...     High      Low     Volume\n",
              "Date                                        ...                             \n",
              "2015-01-02     27.3325    0.1943     0.116  ...  27.8600  26.8375  212575080\n",
              "2015-01-05     26.5625    0.9748     0.061  ...  27.1625  26.3525  256843520\n",
              "2015-01-06     26.5650    0.9932     0.034  ...  26.8575  26.1575  262729000\n",
              "2015-01-07     26.9375    0.9866     0.059  ...  27.0500  26.6737  159933400\n",
              "2015-01-08     27.9725    0.4939     0.059  ...  28.0375  27.1750  236675040\n",
              "\n",
              "[5 rows x 9 columns]"
            ]
          },
          "metadata": {
            "tags": []
          },
          "execution_count": 33
        }
      ]
    },
    {
      "cell_type": "code",
      "metadata": {
        "colab": {
          "base_uri": "https://localhost:8080/"
        },
        "id": "nYOJQft5OwK1",
        "outputId": "46bf62da-f210-4a76-b17a-3805b421d092"
      },
      "source": [
        "stock_data.shape"
      ],
      "execution_count": null,
      "outputs": [
        {
          "output_type": "execute_result",
          "data": {
            "text/plain": [
              "(1595, 9)"
            ]
          },
          "metadata": {
            "tags": []
          },
          "execution_count": 34
        }
      ]
    },
    {
      "cell_type": "code",
      "metadata": {
        "colab": {
          "base_uri": "https://localhost:8080/"
        },
        "id": "8tc6yMrEO5E1",
        "outputId": "44a68347-52c6-4e22-fdce-74f9589a2b97"
      },
      "source": [
        "stock_data.isna().any()"
      ],
      "execution_count": null,
      "outputs": [
        {
          "output_type": "execute_result",
          "data": {
            "text/plain": [
              "Close/Last    False\n",
              "compound      False\n",
              "negative      False\n",
              "neutral       False\n",
              "positive      False\n",
              "Open          False\n",
              "High          False\n",
              "Low           False\n",
              "Volume        False\n",
              "dtype: bool"
            ]
          },
          "metadata": {
            "tags": []
          },
          "execution_count": 35
        }
      ]
    },
    {
      "cell_type": "code",
      "metadata": {
        "colab": {
          "base_uri": "https://localhost:8080/",
          "height": 300
        },
        "id": "BRjzDn6DO9dH",
        "outputId": "8d335d39-369e-44be-f1a3-ae0c7666a7e0"
      },
      "source": [
        "stock_data.describe(include='all')\n"
      ],
      "execution_count": null,
      "outputs": [
        {
          "output_type": "execute_result",
          "data": {
            "text/html": [
              "<div>\n",
              "<style scoped>\n",
              "    .dataframe tbody tr th:only-of-type {\n",
              "        vertical-align: middle;\n",
              "    }\n",
              "\n",
              "    .dataframe tbody tr th {\n",
              "        vertical-align: top;\n",
              "    }\n",
              "\n",
              "    .dataframe thead th {\n",
              "        text-align: right;\n",
              "    }\n",
              "</style>\n",
              "<table border=\"1\" class=\"dataframe\">\n",
              "  <thead>\n",
              "    <tr style=\"text-align: right;\">\n",
              "      <th></th>\n",
              "      <th>Close/Last</th>\n",
              "      <th>compound</th>\n",
              "      <th>negative</th>\n",
              "      <th>neutral</th>\n",
              "      <th>positive</th>\n",
              "      <th>Open</th>\n",
              "      <th>High</th>\n",
              "      <th>Low</th>\n",
              "      <th>Volume</th>\n",
              "    </tr>\n",
              "  </thead>\n",
              "  <tbody>\n",
              "    <tr>\n",
              "      <th>count</th>\n",
              "      <td>1595.000000</td>\n",
              "      <td>1595.000000</td>\n",
              "      <td>1595.000000</td>\n",
              "      <td>1595.000000</td>\n",
              "      <td>1595.000000</td>\n",
              "      <td>1595.000000</td>\n",
              "      <td>1595.000000</td>\n",
              "      <td>1595.000000</td>\n",
              "      <td>1.595000e+03</td>\n",
              "    </tr>\n",
              "    <tr>\n",
              "      <th>mean</th>\n",
              "      <td>52.393220</td>\n",
              "      <td>0.684454</td>\n",
              "      <td>0.056418</td>\n",
              "      <td>0.841270</td>\n",
              "      <td>0.102322</td>\n",
              "      <td>52.376195</td>\n",
              "      <td>52.936966</td>\n",
              "      <td>51.814284</td>\n",
              "      <td>1.430715e+08</td>\n",
              "    </tr>\n",
              "    <tr>\n",
              "      <th>std</th>\n",
              "      <td>30.376239</td>\n",
              "      <td>0.613122</td>\n",
              "      <td>0.030016</td>\n",
              "      <td>0.039029</td>\n",
              "      <td>0.031882</td>\n",
              "      <td>30.410005</td>\n",
              "      <td>30.820348</td>\n",
              "      <td>29.928991</td>\n",
              "      <td>7.032894e+07</td>\n",
              "    </tr>\n",
              "    <tr>\n",
              "      <th>min</th>\n",
              "      <td>22.585000</td>\n",
              "      <td>-0.999500</td>\n",
              "      <td>0.000000</td>\n",
              "      <td>0.666000</td>\n",
              "      <td>0.000000</td>\n",
              "      <td>22.500000</td>\n",
              "      <td>22.917500</td>\n",
              "      <td>22.367500</td>\n",
              "      <td>4.544820e+07</td>\n",
              "    </tr>\n",
              "    <tr>\n",
              "      <th>25%</th>\n",
              "      <td>30.331250</td>\n",
              "      <td>0.836050</td>\n",
              "      <td>0.037000</td>\n",
              "      <td>0.819000</td>\n",
              "      <td>0.081000</td>\n",
              "      <td>30.282500</td>\n",
              "      <td>30.562500</td>\n",
              "      <td>30.112500</td>\n",
              "      <td>9.483556e+07</td>\n",
              "    </tr>\n",
              "    <tr>\n",
              "      <th>50%</th>\n",
              "      <td>42.605000</td>\n",
              "      <td>0.978300</td>\n",
              "      <td>0.052000</td>\n",
              "      <td>0.845000</td>\n",
              "      <td>0.101000</td>\n",
              "      <td>42.622500</td>\n",
              "      <td>42.967500</td>\n",
              "      <td>42.312500</td>\n",
              "      <td>1.255845e+08</td>\n",
              "    </tr>\n",
              "    <tr>\n",
              "      <th>75%</th>\n",
              "      <td>56.761250</td>\n",
              "      <td>0.993900</td>\n",
              "      <td>0.070000</td>\n",
              "      <td>0.867000</td>\n",
              "      <td>0.121000</td>\n",
              "      <td>56.900000</td>\n",
              "      <td>57.256250</td>\n",
              "      <td>56.435000</td>\n",
              "      <td>1.698299e+08</td>\n",
              "    </tr>\n",
              "    <tr>\n",
              "      <th>max</th>\n",
              "      <td>143.160000</td>\n",
              "      <td>0.999600</td>\n",
              "      <td>0.241000</td>\n",
              "      <td>1.000000</td>\n",
              "      <td>0.242000</td>\n",
              "      <td>143.600000</td>\n",
              "      <td>145.090000</td>\n",
              "      <td>141.370000</td>\n",
              "      <td>6.475300e+08</td>\n",
              "    </tr>\n",
              "  </tbody>\n",
              "</table>\n",
              "</div>"
            ],
            "text/plain": [
              "        Close/Last     compound  ...          Low        Volume\n",
              "count  1595.000000  1595.000000  ...  1595.000000  1.595000e+03\n",
              "mean     52.393220     0.684454  ...    51.814284  1.430715e+08\n",
              "std      30.376239     0.613122  ...    29.928991  7.032894e+07\n",
              "min      22.585000    -0.999500  ...    22.367500  4.544820e+07\n",
              "25%      30.331250     0.836050  ...    30.112500  9.483556e+07\n",
              "50%      42.605000     0.978300  ...    42.312500  1.255845e+08\n",
              "75%      56.761250     0.993900  ...    56.435000  1.698299e+08\n",
              "max     143.160000     0.999600  ...   141.370000  6.475300e+08\n",
              "\n",
              "[8 rows x 9 columns]"
            ]
          },
          "metadata": {
            "tags": []
          },
          "execution_count": 36
        }
      ]
    },
    {
      "cell_type": "code",
      "metadata": {
        "colab": {
          "base_uri": "https://localhost:8080/"
        },
        "id": "5tqDvZhdPBLy",
        "outputId": "8f6a5bcf-2466-47f5-d886-761eeefe47b1"
      },
      "source": [
        "stock_data.info()"
      ],
      "execution_count": null,
      "outputs": [
        {
          "output_type": "stream",
          "text": [
            "<class 'pandas.core.frame.DataFrame'>\n",
            "Index: 1595 entries, 2015-01-02 to 2021-06-04\n",
            "Data columns (total 9 columns):\n",
            " #   Column      Non-Null Count  Dtype  \n",
            "---  ------      --------------  -----  \n",
            " 0   Close/Last  1595 non-null   float64\n",
            " 1   compound    1595 non-null   float64\n",
            " 2   negative    1595 non-null   float64\n",
            " 3   neutral     1595 non-null   float64\n",
            " 4   positive    1595 non-null   float64\n",
            " 5   Open        1595 non-null   float64\n",
            " 6   High        1595 non-null   float64\n",
            " 7   Low         1595 non-null   float64\n",
            " 8   Volume      1595 non-null   int64  \n",
            "dtypes: float64(8), int64(1)\n",
            "memory usage: 124.6+ KB\n"
          ],
          "name": "stdout"
        }
      ]
    },
    {
      "cell_type": "code",
      "metadata": {
        "colab": {
          "base_uri": "https://localhost:8080/"
        },
        "id": "SybbjZIrPGG_",
        "outputId": "b8888444-eba1-4fe9-88aa-d3a2844b50a4"
      },
      "source": [
        "# calculating data_to_use\n",
        "percentage_of_data = 1.0\n",
        "data_to_use = int(percentage_of_data*(len(stock_data)-1))\n",
        "\n",
        "# using 80% of data for training\n",
        "train_end = int(data_to_use*0.8)\n",
        "total_data = len(stock_data)\n",
        "start = total_data - data_to_use\n",
        "\n",
        "# printing number of records in the training and test datasets\n",
        "print(\"Number of records in Training Data:\", train_end)\n",
        "print(\"Number of records in Test Data:\", total_data - train_end)\n"
      ],
      "execution_count": null,
      "outputs": [
        {
          "output_type": "stream",
          "text": [
            "Number of records in Training Data: 1275\n",
            "Number of records in Test Data: 320\n"
          ],
          "name": "stdout"
        }
      ]
    },
    {
      "cell_type": "code",
      "metadata": {
        "colab": {
          "base_uri": "https://localhost:8080/"
        },
        "id": "rNh35GKcPS1V",
        "outputId": "85ace98e-93df-4770-ddca-10e745d082d7"
      },
      "source": [
        "# predicting one step ahead\n",
        "steps_to_predict = 1\n",
        "\n",
        "# capturing data to be used for each column\n",
        "close_price = stock_data.iloc[start:total_data,0] #close\n",
        "compound = stock_data.iloc[start:total_data,1] #compound\n",
        "negative = stock_data.iloc[start:total_data,2] #neg\n",
        "neutral = stock_data.iloc[start:total_data,3] #neu\n",
        "positive = stock_data.iloc[start:total_data,4] #pos\n",
        "open_price = stock_data.iloc[start:total_data,5] #open\n",
        "high = stock_data.iloc[start:total_data,6] #high\n",
        "low = stock_data.iloc[start:total_data,7] #low\n",
        "volume = stock_data.iloc[start:total_data,8] #volume\n",
        "\n",
        "# printing close price\n",
        "print(\"Close Price:\")\n",
        "close_price"
      ],
      "execution_count": null,
      "outputs": [
        {
          "output_type": "stream",
          "text": [
            "Close Price:\n"
          ],
          "name": "stdout"
        },
        {
          "output_type": "execute_result",
          "data": {
            "text/plain": [
              "Date\n",
              "2015-01-05     26.5625\n",
              "2015-01-06     26.5650\n",
              "2015-01-07     26.9375\n",
              "2015-01-08     27.9725\n",
              "2015-01-09     28.0025\n",
              "                ...   \n",
              "2021-05-28    124.6100\n",
              "2021-06-01    124.2800\n",
              "2021-06-02    125.0600\n",
              "2021-06-03    123.5400\n",
              "2021-06-04    125.8900\n",
              "Name: Close/Last, Length: 1594, dtype: float64"
            ]
          },
          "metadata": {
            "tags": []
          },
          "execution_count": 39
        }
      ]
    },
    {
      "cell_type": "code",
      "metadata": {
        "colab": {
          "base_uri": "https://localhost:8080/",
          "height": 394
        },
        "id": "_dCB0rlHPixC",
        "outputId": "b2ac534b-5636-425d-e183-f51aea400853"
      },
      "source": [
        "# shifting next day close\n",
        "close_price_shifted = close_price.shift(-1) \n",
        "\n",
        "# shifting next day compound\n",
        "compound_shifted = compound.shift(-1) \n",
        "\n",
        "# concatenating the captured training data into a dataframe\n",
        "data = pd.concat([close_price, close_price_shifted, compound, compound_shifted, volume, open_price, high, low], axis=1)\n",
        "\n",
        "# setting column names of the revised stock data\n",
        "data.columns = ['close_price', 'close_price_shifted', 'compound', 'compound_shifted','volume', 'open_price', 'high', 'low']\n",
        "\n",
        "# dropping nulls\n",
        "data = data.dropna()    \n",
        "data.head(10)\n"
      ],
      "execution_count": null,
      "outputs": [
        {
          "output_type": "execute_result",
          "data": {
            "text/html": [
              "<div>\n",
              "<style scoped>\n",
              "    .dataframe tbody tr th:only-of-type {\n",
              "        vertical-align: middle;\n",
              "    }\n",
              "\n",
              "    .dataframe tbody tr th {\n",
              "        vertical-align: top;\n",
              "    }\n",
              "\n",
              "    .dataframe thead th {\n",
              "        text-align: right;\n",
              "    }\n",
              "</style>\n",
              "<table border=\"1\" class=\"dataframe\">\n",
              "  <thead>\n",
              "    <tr style=\"text-align: right;\">\n",
              "      <th></th>\n",
              "      <th>close_price</th>\n",
              "      <th>close_price_shifted</th>\n",
              "      <th>compound</th>\n",
              "      <th>compound_shifted</th>\n",
              "      <th>volume</th>\n",
              "      <th>open_price</th>\n",
              "      <th>high</th>\n",
              "      <th>low</th>\n",
              "    </tr>\n",
              "    <tr>\n",
              "      <th>Date</th>\n",
              "      <th></th>\n",
              "      <th></th>\n",
              "      <th></th>\n",
              "      <th></th>\n",
              "      <th></th>\n",
              "      <th></th>\n",
              "      <th></th>\n",
              "      <th></th>\n",
              "    </tr>\n",
              "  </thead>\n",
              "  <tbody>\n",
              "    <tr>\n",
              "      <th>2015-01-05</th>\n",
              "      <td>26.5625</td>\n",
              "      <td>26.5650</td>\n",
              "      <td>0.9748</td>\n",
              "      <td>0.9932</td>\n",
              "      <td>256843520</td>\n",
              "      <td>27.0725</td>\n",
              "      <td>27.1625</td>\n",
              "      <td>26.3525</td>\n",
              "    </tr>\n",
              "    <tr>\n",
              "      <th>2015-01-06</th>\n",
              "      <td>26.5650</td>\n",
              "      <td>26.9375</td>\n",
              "      <td>0.9932</td>\n",
              "      <td>0.9866</td>\n",
              "      <td>262729000</td>\n",
              "      <td>26.6350</td>\n",
              "      <td>26.8575</td>\n",
              "      <td>26.1575</td>\n",
              "    </tr>\n",
              "    <tr>\n",
              "      <th>2015-01-07</th>\n",
              "      <td>26.9375</td>\n",
              "      <td>27.9725</td>\n",
              "      <td>0.9866</td>\n",
              "      <td>0.4939</td>\n",
              "      <td>159933400</td>\n",
              "      <td>26.8000</td>\n",
              "      <td>27.0500</td>\n",
              "      <td>26.6737</td>\n",
              "    </tr>\n",
              "    <tr>\n",
              "      <th>2015-01-08</th>\n",
              "      <td>27.9725</td>\n",
              "      <td>28.0025</td>\n",
              "      <td>0.4939</td>\n",
              "      <td>0.9107</td>\n",
              "      <td>236675040</td>\n",
              "      <td>27.3075</td>\n",
              "      <td>28.0375</td>\n",
              "      <td>27.1750</td>\n",
              "    </tr>\n",
              "    <tr>\n",
              "      <th>2015-01-09</th>\n",
              "      <td>28.0025</td>\n",
              "      <td>27.3125</td>\n",
              "      <td>0.9107</td>\n",
              "      <td>0.9609</td>\n",
              "      <td>214582920</td>\n",
              "      <td>28.1675</td>\n",
              "      <td>28.3125</td>\n",
              "      <td>27.5525</td>\n",
              "    </tr>\n",
              "    <tr>\n",
              "      <th>2015-01-12</th>\n",
              "      <td>27.3125</td>\n",
              "      <td>27.5550</td>\n",
              "      <td>0.9609</td>\n",
              "      <td>0.9984</td>\n",
              "      <td>198284680</td>\n",
              "      <td>28.1500</td>\n",
              "      <td>28.1575</td>\n",
              "      <td>27.2000</td>\n",
              "    </tr>\n",
              "    <tr>\n",
              "      <th>2015-01-13</th>\n",
              "      <td>27.5550</td>\n",
              "      <td>27.4500</td>\n",
              "      <td>0.9984</td>\n",
              "      <td>0.9728</td>\n",
              "      <td>267879920</td>\n",
              "      <td>27.8575</td>\n",
              "      <td>28.2000</td>\n",
              "      <td>27.2275</td>\n",
              "    </tr>\n",
              "    <tr>\n",
              "      <th>2015-01-14</th>\n",
              "      <td>27.4500</td>\n",
              "      <td>26.7050</td>\n",
              "      <td>0.9728</td>\n",
              "      <td>0.8521</td>\n",
              "      <td>194912760</td>\n",
              "      <td>27.2600</td>\n",
              "      <td>27.6225</td>\n",
              "      <td>27.1250</td>\n",
              "    </tr>\n",
              "    <tr>\n",
              "      <th>2015-01-15</th>\n",
              "      <td>26.7050</td>\n",
              "      <td>26.4975</td>\n",
              "      <td>0.8521</td>\n",
              "      <td>0.9895</td>\n",
              "      <td>239233880</td>\n",
              "      <td>27.5000</td>\n",
              "      <td>27.5150</td>\n",
              "      <td>26.6650</td>\n",
              "    </tr>\n",
              "    <tr>\n",
              "      <th>2015-01-16</th>\n",
              "      <td>26.4975</td>\n",
              "      <td>27.1800</td>\n",
              "      <td>0.9895</td>\n",
              "      <td>0.8979</td>\n",
              "      <td>313813320</td>\n",
              "      <td>26.7575</td>\n",
              "      <td>26.8950</td>\n",
              "      <td>26.3000</td>\n",
              "    </tr>\n",
              "  </tbody>\n",
              "</table>\n",
              "</div>"
            ],
            "text/plain": [
              "            close_price  close_price_shifted  ...     high      low\n",
              "Date                                          ...                  \n",
              "2015-01-05      26.5625              26.5650  ...  27.1625  26.3525\n",
              "2015-01-06      26.5650              26.9375  ...  26.8575  26.1575\n",
              "2015-01-07      26.9375              27.9725  ...  27.0500  26.6737\n",
              "2015-01-08      27.9725              28.0025  ...  28.0375  27.1750\n",
              "2015-01-09      28.0025              27.3125  ...  28.3125  27.5525\n",
              "2015-01-12      27.3125              27.5550  ...  28.1575  27.2000\n",
              "2015-01-13      27.5550              27.4500  ...  28.2000  27.2275\n",
              "2015-01-14      27.4500              26.7050  ...  27.6225  27.1250\n",
              "2015-01-15      26.7050              26.4975  ...  27.5150  26.6650\n",
              "2015-01-16      26.4975              27.1800  ...  26.8950  26.3000\n",
              "\n",
              "[10 rows x 8 columns]"
            ]
          },
          "metadata": {
            "tags": []
          },
          "execution_count": 40
        }
      ]
    },
    {
      "cell_type": "code",
      "metadata": {
        "colab": {
          "base_uri": "https://localhost:8080/"
        },
        "id": "62hrHYehPtxg",
        "outputId": "7776c00e-bcdc-40df-af9f-52dc992282b9"
      },
      "source": [
        "y = data['close_price_shifted']\n",
        "y"
      ],
      "execution_count": null,
      "outputs": [
        {
          "output_type": "execute_result",
          "data": {
            "text/plain": [
              "Date\n",
              "2015-01-05     26.5650\n",
              "2015-01-06     26.9375\n",
              "2015-01-07     27.9725\n",
              "2015-01-08     28.0025\n",
              "2015-01-09     27.3125\n",
              "                ...   \n",
              "2021-05-27    124.6100\n",
              "2021-05-28    124.2800\n",
              "2021-06-01    125.0600\n",
              "2021-06-02    123.5400\n",
              "2021-06-03    125.8900\n",
              "Name: close_price_shifted, Length: 1593, dtype: float64"
            ]
          },
          "metadata": {
            "tags": []
          },
          "execution_count": 41
        }
      ]
    },
    {
      "cell_type": "code",
      "metadata": {
        "colab": {
          "base_uri": "https://localhost:8080/",
          "height": 455
        },
        "id": "mW52uLk5P0Dw",
        "outputId": "7598673d-01e0-421c-d7f1-23a545fc0912"
      },
      "source": [
        "# setting the features dataset for prediction  \n",
        "cols = ['close_price', 'compound', 'compound_shifted', 'volume', 'open_price', 'high', 'low']\n",
        "x = data[cols]\n",
        "x"
      ],
      "execution_count": null,
      "outputs": [
        {
          "output_type": "execute_result",
          "data": {
            "text/html": [
              "<div>\n",
              "<style scoped>\n",
              "    .dataframe tbody tr th:only-of-type {\n",
              "        vertical-align: middle;\n",
              "    }\n",
              "\n",
              "    .dataframe tbody tr th {\n",
              "        vertical-align: top;\n",
              "    }\n",
              "\n",
              "    .dataframe thead th {\n",
              "        text-align: right;\n",
              "    }\n",
              "</style>\n",
              "<table border=\"1\" class=\"dataframe\">\n",
              "  <thead>\n",
              "    <tr style=\"text-align: right;\">\n",
              "      <th></th>\n",
              "      <th>close_price</th>\n",
              "      <th>compound</th>\n",
              "      <th>compound_shifted</th>\n",
              "      <th>volume</th>\n",
              "      <th>open_price</th>\n",
              "      <th>high</th>\n",
              "      <th>low</th>\n",
              "    </tr>\n",
              "    <tr>\n",
              "      <th>Date</th>\n",
              "      <th></th>\n",
              "      <th></th>\n",
              "      <th></th>\n",
              "      <th></th>\n",
              "      <th></th>\n",
              "      <th></th>\n",
              "      <th></th>\n",
              "    </tr>\n",
              "  </thead>\n",
              "  <tbody>\n",
              "    <tr>\n",
              "      <th>2015-01-05</th>\n",
              "      <td>26.5625</td>\n",
              "      <td>0.9748</td>\n",
              "      <td>0.9932</td>\n",
              "      <td>256843520</td>\n",
              "      <td>27.0725</td>\n",
              "      <td>27.1625</td>\n",
              "      <td>26.3525</td>\n",
              "    </tr>\n",
              "    <tr>\n",
              "      <th>2015-01-06</th>\n",
              "      <td>26.5650</td>\n",
              "      <td>0.9932</td>\n",
              "      <td>0.9866</td>\n",
              "      <td>262729000</td>\n",
              "      <td>26.6350</td>\n",
              "      <td>26.8575</td>\n",
              "      <td>26.1575</td>\n",
              "    </tr>\n",
              "    <tr>\n",
              "      <th>2015-01-07</th>\n",
              "      <td>26.9375</td>\n",
              "      <td>0.9866</td>\n",
              "      <td>0.4939</td>\n",
              "      <td>159933400</td>\n",
              "      <td>26.8000</td>\n",
              "      <td>27.0500</td>\n",
              "      <td>26.6737</td>\n",
              "    </tr>\n",
              "    <tr>\n",
              "      <th>2015-01-08</th>\n",
              "      <td>27.9725</td>\n",
              "      <td>0.4939</td>\n",
              "      <td>0.9107</td>\n",
              "      <td>236675040</td>\n",
              "      <td>27.3075</td>\n",
              "      <td>28.0375</td>\n",
              "      <td>27.1750</td>\n",
              "    </tr>\n",
              "    <tr>\n",
              "      <th>2015-01-09</th>\n",
              "      <td>28.0025</td>\n",
              "      <td>0.9107</td>\n",
              "      <td>0.9609</td>\n",
              "      <td>214582920</td>\n",
              "      <td>28.1675</td>\n",
              "      <td>28.3125</td>\n",
              "      <td>27.5525</td>\n",
              "    </tr>\n",
              "    <tr>\n",
              "      <th>...</th>\n",
              "      <td>...</td>\n",
              "      <td>...</td>\n",
              "      <td>...</td>\n",
              "      <td>...</td>\n",
              "      <td>...</td>\n",
              "      <td>...</td>\n",
              "      <td>...</td>\n",
              "    </tr>\n",
              "    <tr>\n",
              "      <th>2021-05-27</th>\n",
              "      <td>125.2800</td>\n",
              "      <td>0.9986</td>\n",
              "      <td>0.9937</td>\n",
              "      <td>94625600</td>\n",
              "      <td>126.4400</td>\n",
              "      <td>127.6400</td>\n",
              "      <td>125.0800</td>\n",
              "    </tr>\n",
              "    <tr>\n",
              "      <th>2021-05-28</th>\n",
              "      <td>124.6100</td>\n",
              "      <td>0.9937</td>\n",
              "      <td>0.9976</td>\n",
              "      <td>71311110</td>\n",
              "      <td>125.5700</td>\n",
              "      <td>125.8000</td>\n",
              "      <td>124.5500</td>\n",
              "    </tr>\n",
              "    <tr>\n",
              "      <th>2021-06-01</th>\n",
              "      <td>124.2800</td>\n",
              "      <td>0.9976</td>\n",
              "      <td>0.7719</td>\n",
              "      <td>67637120</td>\n",
              "      <td>125.0800</td>\n",
              "      <td>125.3500</td>\n",
              "      <td>123.9400</td>\n",
              "    </tr>\n",
              "    <tr>\n",
              "      <th>2021-06-02</th>\n",
              "      <td>125.0600</td>\n",
              "      <td>0.7719</td>\n",
              "      <td>-0.3348</td>\n",
              "      <td>59278860</td>\n",
              "      <td>124.2800</td>\n",
              "      <td>125.2400</td>\n",
              "      <td>124.0500</td>\n",
              "    </tr>\n",
              "    <tr>\n",
              "      <th>2021-06-03</th>\n",
              "      <td>123.5400</td>\n",
              "      <td>-0.3348</td>\n",
              "      <td>0.9801</td>\n",
              "      <td>76229170</td>\n",
              "      <td>124.6800</td>\n",
              "      <td>124.8500</td>\n",
              "      <td>123.1300</td>\n",
              "    </tr>\n",
              "  </tbody>\n",
              "</table>\n",
              "<p>1593 rows × 7 columns</p>\n",
              "</div>"
            ],
            "text/plain": [
              "            close_price  compound  ...      high       low\n",
              "Date                               ...                    \n",
              "2015-01-05      26.5625    0.9748  ...   27.1625   26.3525\n",
              "2015-01-06      26.5650    0.9932  ...   26.8575   26.1575\n",
              "2015-01-07      26.9375    0.9866  ...   27.0500   26.6737\n",
              "2015-01-08      27.9725    0.4939  ...   28.0375   27.1750\n",
              "2015-01-09      28.0025    0.9107  ...   28.3125   27.5525\n",
              "...                 ...       ...  ...       ...       ...\n",
              "2021-05-27     125.2800    0.9986  ...  127.6400  125.0800\n",
              "2021-05-28     124.6100    0.9937  ...  125.8000  124.5500\n",
              "2021-06-01     124.2800    0.9976  ...  125.3500  123.9400\n",
              "2021-06-02     125.0600    0.7719  ...  125.2400  124.0500\n",
              "2021-06-03     123.5400   -0.3348  ...  124.8500  123.1300\n",
              "\n",
              "[1593 rows x 7 columns]"
            ]
          },
          "metadata": {
            "tags": []
          },
          "execution_count": 42
        }
      ]
    },
    {
      "cell_type": "code",
      "metadata": {
        "id": "XYOyVMGNQFqk"
      },
      "source": [
        "from sklearn import preprocessing, metrics\n",
        "from sklearn.preprocessing import MinMaxScaler"
      ],
      "execution_count": null,
      "outputs": []
    },
    {
      "cell_type": "code",
      "metadata": {
        "colab": {
          "base_uri": "https://localhost:8080/"
        },
        "id": "Uzb4OhumP4ul",
        "outputId": "51db9368-3ea6-46dd-ea88-ffec4a2a016f"
      },
      "source": [
        "# scaling the feature dataset\n",
        "scaler_x = preprocessing.MinMaxScaler (feature_range=(-1, 1))\n",
        "x = np.array(x).reshape((len(x) ,len(cols)))\n",
        "x = scaler_x.fit_transform(x)\n",
        "\n",
        "# scaling the target variable\n",
        "scaler_y = preprocessing.MinMaxScaler (feature_range=(-1, 1))\n",
        "y = np.array (y).reshape ((len( y), 1))\n",
        "y = scaler_y.fit_transform (y)\n",
        "\n",
        "# displaying the scaled feature dataset and the target variable\n",
        "x, y"
      ],
      "execution_count": null,
      "outputs": [
        {
          "output_type": "execute_result",
          "data": {
            "text/plain": [
              "(array([[-0.93402447,  0.97518883,  0.99359712, ..., -0.9244839 ,\n",
              "         -0.93050809, -0.93302662],\n",
              "        [-0.933983  ,  0.99359712,  0.98699415, ..., -0.93170933,\n",
              "         -0.93550103, -0.93630386],\n",
              "        [-0.92780427,  0.98699415,  0.49407233, ..., -0.92898431,\n",
              "         -0.93234975, -0.92762841],\n",
              "        ...,\n",
              "        [ 0.68683392,  0.9979991 ,  0.77219749, ...,  0.69413708,\n",
              "          0.67685036,  0.70706498],\n",
              "        [ 0.69977193,  0.77219749, -0.33500075, ...,  0.68092486,\n",
              "          0.67504962,  0.70891368],\n",
              "        [ 0.6745594 , -0.33500075,  0.98049122, ...,  0.68753097,\n",
              "          0.66866521,  0.69345182]]), array([[-0.933983  ],\n",
              "        [-0.92780427],\n",
              "        [-0.91063653],\n",
              "        ...,\n",
              "        [ 0.69977193],\n",
              "        [ 0.6745594 ],\n",
              "        [ 0.71353929]]))"
            ]
          },
          "metadata": {
            "tags": []
          },
          "execution_count": 44
        }
      ]
    },
    {
      "cell_type": "code",
      "metadata": {
        "colab": {
          "base_uri": "https://localhost:8080/"
        },
        "id": "4yKlsi8vP8YW",
        "outputId": "597159d9-dac1-4942-f15a-4517b177d0a7"
      },
      "source": [
        "# preparing training and test dataset\n",
        "X_train = x[0 : train_end,]\n",
        "X_test = x[train_end+1 : len(x),]    \n",
        "y_train = y[0 : train_end] \n",
        "y_test = y[train_end+1 : len(y)]  \n",
        "\n",
        "# printing the shape of the training and the test datasets\n",
        "print('Number of rows and columns in the Training set X:', X_train.shape, 'and y:', y_train.shape)\n",
        "print('Number of rows and columns in the Test set X:', X_test.shape, 'and y:', y_test.shape)"
      ],
      "execution_count": null,
      "outputs": [
        {
          "output_type": "stream",
          "text": [
            "Number of rows and columns in the Training set X: (1275, 7) and y: (1275, 1)\n",
            "Number of rows and columns in the Test set X: (317, 7) and y: (317, 1)\n"
          ],
          "name": "stdout"
        }
      ]
    },
    {
      "cell_type": "code",
      "metadata": {
        "colab": {
          "base_uri": "https://localhost:8080/"
        },
        "id": "nnkR-P6nQQSl",
        "outputId": "c6f3be64-9659-49b6-ec02-0ff7bfb6ccd6"
      },
      "source": [
        "# reshaping the feature dataset for feeding into the model\n",
        "X_train = X_train.reshape (X_train.shape + (1,)) \n",
        "X_test = X_test.reshape(X_test.shape + (1,))\n",
        "\n",
        "# printing the re-shaped feature dataset\n",
        "print('Shape of Training set X:', X_train.shape)\n",
        "print('Shape of Test set X:', X_test.shape)"
      ],
      "execution_count": null,
      "outputs": [
        {
          "output_type": "stream",
          "text": [
            "Shape of Training set X: (1275, 7, 1)\n",
            "Shape of Test set X: (317, 7, 1)\n"
          ],
          "name": "stdout"
        }
      ]
    },
    {
      "cell_type": "code",
      "metadata": {
        "id": "1YXpCXSrQZco"
      },
      "source": [
        "from keras.models import Sequential\n",
        "from keras.layers import Dense, LSTM, Dropout, Dense, Activation"
      ],
      "execution_count": null,
      "outputs": []
    },
    {
      "cell_type": "code",
      "metadata": {
        "colab": {
          "base_uri": "https://localhost:8080/"
        },
        "id": "F-KSh_X5QUAp",
        "outputId": "a3b37a1d-d287-4e12-e16a-977b2d78fbba"
      },
      "source": [
        "# setting the seed to achieve consistent and less random predictions at each execution\n",
        "np.random.seed(2016)\n",
        "\n",
        "# setting the model architecture\n",
        "model=Sequential()\n",
        "model.add(LSTM(100,return_sequences=True,activation='tanh',input_shape=(len(cols),1)))\n",
        "model.add(Dropout(0.1))\n",
        "model.add(LSTM(100,return_sequences=True,activation='tanh'))\n",
        "model.add(Dropout(0.1))\n",
        "model.add(LSTM(100,return_sequences=True,activation='tanh'))\n",
        "model.add(Dropout(0.1))\n",
        "model.add(LSTM(100,activation='tanh'))\n",
        "model.add(Dropout(0.1))\n",
        "model.add(Dense(1))\n",
        "\n",
        "# printing the model summary\n",
        "model.summary()"
      ],
      "execution_count": null,
      "outputs": [
        {
          "output_type": "stream",
          "text": [
            "Model: \"sequential\"\n",
            "_________________________________________________________________\n",
            "Layer (type)                 Output Shape              Param #   \n",
            "=================================================================\n",
            "lstm (LSTM)                  (None, 7, 100)            40800     \n",
            "_________________________________________________________________\n",
            "dropout (Dropout)            (None, 7, 100)            0         \n",
            "_________________________________________________________________\n",
            "lstm_1 (LSTM)                (None, 7, 100)            80400     \n",
            "_________________________________________________________________\n",
            "dropout_1 (Dropout)          (None, 7, 100)            0         \n",
            "_________________________________________________________________\n",
            "lstm_2 (LSTM)                (None, 7, 100)            80400     \n",
            "_________________________________________________________________\n",
            "dropout_2 (Dropout)          (None, 7, 100)            0         \n",
            "_________________________________________________________________\n",
            "lstm_3 (LSTM)                (None, 100)               80400     \n",
            "_________________________________________________________________\n",
            "dropout_3 (Dropout)          (None, 100)               0         \n",
            "_________________________________________________________________\n",
            "dense (Dense)                (None, 1)                 101       \n",
            "=================================================================\n",
            "Total params: 282,101\n",
            "Trainable params: 282,101\n",
            "Non-trainable params: 0\n",
            "_________________________________________________________________\n"
          ],
          "name": "stdout"
        }
      ]
    },
    {
      "cell_type": "code",
      "metadata": {
        "colab": {
          "base_uri": "https://localhost:8080/"
        },
        "id": "P14OkygPQXoC",
        "outputId": "f662ac24-70c8-400e-d5e3-6ec00154e4b3"
      },
      "source": [
        "# compiling the model\n",
        "model.compile(loss='mse' , optimizer='adam')\n",
        "\n",
        "# fitting the model using the training dataset\n",
        "model.fit(X_train, y_train, validation_split=0.2, epochs=100, batch_size=8, verbose=1)\n",
        "\n"
      ],
      "execution_count": null,
      "outputs": [
        {
          "output_type": "stream",
          "text": [
            "Epoch 1/100\n",
            "128/128 [==============================] - 26s 35ms/step - loss: 0.1313 - val_loss: 0.1525\n",
            "Epoch 2/100\n",
            "128/128 [==============================] - 3s 21ms/step - loss: 0.0238 - val_loss: 0.1144\n",
            "Epoch 3/100\n",
            "128/128 [==============================] - 3s 21ms/step - loss: 0.0220 - val_loss: 0.1036\n",
            "Epoch 4/100\n",
            "128/128 [==============================] - 3s 21ms/step - loss: 0.0141 - val_loss: 0.0182\n",
            "Epoch 5/100\n",
            "128/128 [==============================] - 3s 21ms/step - loss: 0.0067 - val_loss: 0.0088\n",
            "Epoch 6/100\n",
            "128/128 [==============================] - 3s 21ms/step - loss: 0.0060 - val_loss: 0.0055\n",
            "Epoch 7/100\n",
            "128/128 [==============================] - 3s 21ms/step - loss: 0.0055 - val_loss: 0.0207\n",
            "Epoch 8/100\n",
            "128/128 [==============================] - 3s 21ms/step - loss: 0.0056 - val_loss: 0.0198\n",
            "Epoch 9/100\n",
            "128/128 [==============================] - 3s 21ms/step - loss: 0.0037 - val_loss: 0.0137\n",
            "Epoch 10/100\n",
            "128/128 [==============================] - 3s 21ms/step - loss: 0.0037 - val_loss: 0.0096\n",
            "Epoch 11/100\n",
            "128/128 [==============================] - 3s 21ms/step - loss: 0.0027 - val_loss: 0.0047\n",
            "Epoch 12/100\n",
            "128/128 [==============================] - 3s 21ms/step - loss: 0.0027 - val_loss: 0.0046\n",
            "Epoch 13/100\n",
            "128/128 [==============================] - 3s 21ms/step - loss: 0.0020 - val_loss: 0.0061\n",
            "Epoch 14/100\n",
            "128/128 [==============================] - 3s 21ms/step - loss: 0.0020 - val_loss: 0.0021\n",
            "Epoch 15/100\n",
            "128/128 [==============================] - 3s 21ms/step - loss: 0.0020 - val_loss: 0.0024\n",
            "Epoch 16/100\n",
            "128/128 [==============================] - 3s 20ms/step - loss: 0.0018 - val_loss: 0.0036\n",
            "Epoch 17/100\n",
            "128/128 [==============================] - 3s 21ms/step - loss: 0.0024 - val_loss: 0.0053\n",
            "Epoch 18/100\n",
            "128/128 [==============================] - 3s 21ms/step - loss: 0.0022 - val_loss: 0.0021\n",
            "Epoch 19/100\n",
            "128/128 [==============================] - 3s 21ms/step - loss: 0.0013 - val_loss: 0.0015\n",
            "Epoch 20/100\n",
            "128/128 [==============================] - 3s 21ms/step - loss: 0.0017 - val_loss: 0.0017\n",
            "Epoch 21/100\n",
            "128/128 [==============================] - 3s 21ms/step - loss: 0.0016 - val_loss: 0.0057\n",
            "Epoch 22/100\n",
            "128/128 [==============================] - 3s 21ms/step - loss: 0.0015 - val_loss: 0.0026\n",
            "Epoch 23/100\n",
            "128/128 [==============================] - 3s 21ms/step - loss: 0.0013 - val_loss: 0.0058\n",
            "Epoch 24/100\n",
            "128/128 [==============================] - 3s 21ms/step - loss: 0.0014 - val_loss: 0.0029\n",
            "Epoch 25/100\n",
            "128/128 [==============================] - 3s 21ms/step - loss: 0.0012 - val_loss: 0.0035\n",
            "Epoch 26/100\n",
            "128/128 [==============================] - 3s 21ms/step - loss: 0.0011 - val_loss: 0.0017\n",
            "Epoch 27/100\n",
            "128/128 [==============================] - 3s 21ms/step - loss: 0.0013 - val_loss: 0.0018\n",
            "Epoch 28/100\n",
            "128/128 [==============================] - 3s 21ms/step - loss: 0.0010 - val_loss: 0.0020\n",
            "Epoch 29/100\n",
            "128/128 [==============================] - 3s 21ms/step - loss: 0.0011 - val_loss: 0.0044\n",
            "Epoch 30/100\n",
            "128/128 [==============================] - 3s 21ms/step - loss: 0.0016 - val_loss: 7.9149e-04\n",
            "Epoch 31/100\n",
            "128/128 [==============================] - 3s 21ms/step - loss: 0.0017 - val_loss: 0.0068\n",
            "Epoch 32/100\n",
            "128/128 [==============================] - 3s 21ms/step - loss: 0.0014 - val_loss: 0.0026\n",
            "Epoch 33/100\n",
            "128/128 [==============================] - 3s 21ms/step - loss: 0.0011 - val_loss: 0.0022\n",
            "Epoch 34/100\n",
            "128/128 [==============================] - 3s 21ms/step - loss: 9.7061e-04 - val_loss: 0.0029\n",
            "Epoch 35/100\n",
            "128/128 [==============================] - 3s 21ms/step - loss: 0.0011 - val_loss: 0.0027\n",
            "Epoch 36/100\n",
            "128/128 [==============================] - 3s 21ms/step - loss: 0.0015 - val_loss: 0.0024\n",
            "Epoch 37/100\n",
            "128/128 [==============================] - 3s 21ms/step - loss: 0.0013 - val_loss: 0.0013\n",
            "Epoch 38/100\n",
            "128/128 [==============================] - 3s 21ms/step - loss: 9.0580e-04 - val_loss: 0.0067\n",
            "Epoch 39/100\n",
            "128/128 [==============================] - 3s 21ms/step - loss: 9.2607e-04 - val_loss: 0.0023\n",
            "Epoch 40/100\n",
            "128/128 [==============================] - 3s 21ms/step - loss: 0.0010 - val_loss: 0.0021\n",
            "Epoch 41/100\n",
            "128/128 [==============================] - 3s 21ms/step - loss: 0.0013 - val_loss: 0.0025\n",
            "Epoch 42/100\n",
            "128/128 [==============================] - 3s 21ms/step - loss: 8.3531e-04 - val_loss: 0.0098\n",
            "Epoch 43/100\n",
            "128/128 [==============================] - 3s 21ms/step - loss: 9.6681e-04 - val_loss: 0.0019\n",
            "Epoch 44/100\n",
            "128/128 [==============================] - 3s 21ms/step - loss: 0.0012 - val_loss: 0.0032\n",
            "Epoch 45/100\n",
            "128/128 [==============================] - 3s 21ms/step - loss: 8.8591e-04 - val_loss: 0.0117\n",
            "Epoch 46/100\n",
            "128/128 [==============================] - 3s 21ms/step - loss: 8.0548e-04 - val_loss: 0.0042\n",
            "Epoch 47/100\n",
            "128/128 [==============================] - 3s 21ms/step - loss: 8.3596e-04 - val_loss: 0.0061\n",
            "Epoch 48/100\n",
            "128/128 [==============================] - 3s 21ms/step - loss: 7.4780e-04 - val_loss: 6.8214e-04\n",
            "Epoch 49/100\n",
            "128/128 [==============================] - 3s 21ms/step - loss: 8.5268e-04 - val_loss: 0.0070\n",
            "Epoch 50/100\n",
            "128/128 [==============================] - 3s 21ms/step - loss: 9.3659e-04 - val_loss: 0.0015\n",
            "Epoch 51/100\n",
            "128/128 [==============================] - 3s 21ms/step - loss: 9.8834e-04 - val_loss: 0.0017\n",
            "Epoch 52/100\n",
            "128/128 [==============================] - 3s 22ms/step - loss: 7.7173e-04 - val_loss: 0.0027\n",
            "Epoch 53/100\n",
            "128/128 [==============================] - 3s 21ms/step - loss: 0.0013 - val_loss: 8.2609e-04\n",
            "Epoch 54/100\n",
            "128/128 [==============================] - 3s 21ms/step - loss: 7.4563e-04 - val_loss: 0.0115\n",
            "Epoch 55/100\n",
            "128/128 [==============================] - 3s 21ms/step - loss: 8.2615e-04 - val_loss: 0.0019\n",
            "Epoch 56/100\n",
            "128/128 [==============================] - 3s 21ms/step - loss: 8.2070e-04 - val_loss: 0.0018\n",
            "Epoch 57/100\n",
            "128/128 [==============================] - 3s 21ms/step - loss: 8.3373e-04 - val_loss: 0.0048\n",
            "Epoch 58/100\n",
            "128/128 [==============================] - 3s 21ms/step - loss: 7.8613e-04 - val_loss: 0.0058\n",
            "Epoch 59/100\n",
            "128/128 [==============================] - 3s 21ms/step - loss: 7.4213e-04 - val_loss: 0.0021\n",
            "Epoch 60/100\n",
            "128/128 [==============================] - 3s 21ms/step - loss: 8.2328e-04 - val_loss: 0.0031\n",
            "Epoch 61/100\n",
            "128/128 [==============================] - 3s 21ms/step - loss: 8.7618e-04 - val_loss: 0.0044\n",
            "Epoch 62/100\n",
            "128/128 [==============================] - 3s 21ms/step - loss: 9.2184e-04 - val_loss: 0.0044\n",
            "Epoch 63/100\n",
            "128/128 [==============================] - 3s 21ms/step - loss: 8.2378e-04 - val_loss: 0.0015\n",
            "Epoch 64/100\n",
            "128/128 [==============================] - 3s 21ms/step - loss: 6.7484e-04 - val_loss: 9.1038e-04\n",
            "Epoch 65/100\n",
            "128/128 [==============================] - 3s 21ms/step - loss: 8.3013e-04 - val_loss: 0.0014\n",
            "Epoch 66/100\n",
            "128/128 [==============================] - 3s 21ms/step - loss: 0.0010 - val_loss: 0.0027\n",
            "Epoch 67/100\n",
            "128/128 [==============================] - 3s 21ms/step - loss: 0.0012 - val_loss: 0.0011\n",
            "Epoch 68/100\n",
            "128/128 [==============================] - 3s 20ms/step - loss: 6.2360e-04 - val_loss: 0.0023\n",
            "Epoch 69/100\n",
            "128/128 [==============================] - 3s 21ms/step - loss: 6.8901e-04 - val_loss: 0.0025\n",
            "Epoch 70/100\n",
            "128/128 [==============================] - 3s 21ms/step - loss: 5.9494e-04 - val_loss: 0.0029\n",
            "Epoch 71/100\n",
            "128/128 [==============================] - 3s 21ms/step - loss: 6.2956e-04 - val_loss: 0.0030\n",
            "Epoch 72/100\n",
            "128/128 [==============================] - 3s 21ms/step - loss: 6.5412e-04 - val_loss: 0.0040\n",
            "Epoch 73/100\n",
            "128/128 [==============================] - 3s 21ms/step - loss: 7.1006e-04 - val_loss: 9.3634e-04\n",
            "Epoch 74/100\n",
            "128/128 [==============================] - 3s 21ms/step - loss: 5.9250e-04 - val_loss: 0.0030\n",
            "Epoch 75/100\n",
            "128/128 [==============================] - 3s 21ms/step - loss: 5.7902e-04 - val_loss: 0.0046\n",
            "Epoch 76/100\n",
            "128/128 [==============================] - 3s 21ms/step - loss: 5.7494e-04 - val_loss: 0.0050\n",
            "Epoch 77/100\n",
            "128/128 [==============================] - 3s 22ms/step - loss: 6.1670e-04 - val_loss: 7.1151e-04\n",
            "Epoch 78/100\n",
            "128/128 [==============================] - 3s 22ms/step - loss: 6.3188e-04 - val_loss: 8.3050e-04\n",
            "Epoch 79/100\n",
            "128/128 [==============================] - 3s 21ms/step - loss: 5.0858e-04 - val_loss: 0.0027\n",
            "Epoch 80/100\n",
            "128/128 [==============================] - 3s 22ms/step - loss: 5.5534e-04 - val_loss: 0.0025\n",
            "Epoch 81/100\n",
            "128/128 [==============================] - 3s 22ms/step - loss: 6.2861e-04 - val_loss: 0.0027\n",
            "Epoch 82/100\n",
            "128/128 [==============================] - 3s 21ms/step - loss: 5.3014e-04 - val_loss: 4.2511e-04\n",
            "Epoch 83/100\n",
            "128/128 [==============================] - 3s 22ms/step - loss: 4.5203e-04 - val_loss: 0.0046\n",
            "Epoch 84/100\n",
            "128/128 [==============================] - 3s 22ms/step - loss: 5.9906e-04 - val_loss: 0.0041\n",
            "Epoch 85/100\n",
            "128/128 [==============================] - 3s 21ms/step - loss: 5.1147e-04 - val_loss: 0.0046\n",
            "Epoch 86/100\n",
            "128/128 [==============================] - 3s 21ms/step - loss: 4.8803e-04 - val_loss: 0.0025\n",
            "Epoch 87/100\n",
            "128/128 [==============================] - 3s 21ms/step - loss: 5.0432e-04 - val_loss: 0.0017\n",
            "Epoch 88/100\n",
            "128/128 [==============================] - 3s 22ms/step - loss: 5.1596e-04 - val_loss: 9.8951e-04\n",
            "Epoch 89/100\n",
            "128/128 [==============================] - 3s 21ms/step - loss: 5.0257e-04 - val_loss: 0.0034\n",
            "Epoch 90/100\n",
            "128/128 [==============================] - 3s 21ms/step - loss: 4.1356e-04 - val_loss: 0.0018\n",
            "Epoch 91/100\n",
            "128/128 [==============================] - 3s 21ms/step - loss: 5.2059e-04 - val_loss: 0.0029\n",
            "Epoch 92/100\n",
            "128/128 [==============================] - 3s 22ms/step - loss: 4.8476e-04 - val_loss: 0.0037\n",
            "Epoch 93/100\n",
            "128/128 [==============================] - 3s 22ms/step - loss: 4.1596e-04 - val_loss: 0.0026\n",
            "Epoch 94/100\n",
            "128/128 [==============================] - 3s 21ms/step - loss: 5.5397e-04 - val_loss: 0.0017\n",
            "Epoch 95/100\n",
            "128/128 [==============================] - 3s 21ms/step - loss: 4.2862e-04 - val_loss: 0.0019\n",
            "Epoch 96/100\n",
            "128/128 [==============================] - 3s 22ms/step - loss: 4.3919e-04 - val_loss: 0.0014\n",
            "Epoch 97/100\n",
            "128/128 [==============================] - 3s 21ms/step - loss: 5.8354e-04 - val_loss: 0.0025\n",
            "Epoch 98/100\n",
            "128/128 [==============================] - 3s 21ms/step - loss: 4.2143e-04 - val_loss: 6.8887e-04\n",
            "Epoch 99/100\n",
            "128/128 [==============================] - 3s 21ms/step - loss: 4.7984e-04 - val_loss: 0.0020\n",
            "Epoch 100/100\n",
            "128/128 [==============================] - 3s 22ms/step - loss: 5.3854e-04 - val_loss: 0.0029\n"
          ],
          "name": "stdout"
        },
        {
          "output_type": "execute_result",
          "data": {
            "text/plain": [
              "<keras.callbacks.History at 0x7f94ef39b890>"
            ]
          },
          "metadata": {
            "tags": []
          },
          "execution_count": 49
        }
      ]
    },
    {
      "cell_type": "code",
      "metadata": {
        "colab": {
          "base_uri": "https://localhost:8080/"
        },
        "id": "R9ll-yMOQmqk",
        "outputId": "4c55d188-1e24-4278-e1bf-1a3065cb8c71"
      },
      "source": [
        "# saving the model as a json file\n",
        "model_json = model.to_json()\n",
        "with open('model.json', 'w') as json_file:\n",
        "    json_file.write(model_json)\n",
        "    \n",
        "# serialize weights to HDF5\n",
        "model.save_weights('model.h5')\n",
        "print('Model is saved to the disk')"
      ],
      "execution_count": null,
      "outputs": [
        {
          "output_type": "stream",
          "text": [
            "Model is saved to the disk\n"
          ],
          "name": "stdout"
        }
      ]
    },
    {
      "cell_type": "code",
      "metadata": {
        "colab": {
          "base_uri": "https://localhost:8080/"
        },
        "id": "4bKqXXBEQ3ct",
        "outputId": "3e7c1b7f-f162-4c12-c36f-abe704450a3f"
      },
      "source": [
        "# performing predictions\n",
        "predictions = model.predict(X_test) \n",
        "\n",
        "# unscaling the predictions\n",
        "predictions = scaler_y.inverse_transform(np.array(predictions).reshape((len(predictions), 1)))\n",
        "\n",
        "# printing the predictions\n",
        "print('Predictions:')\n",
        "predictions[0:5]"
      ],
      "execution_count": null,
      "outputs": [
        {
          "output_type": "stream",
          "text": [
            "Predictions:\n"
          ],
          "name": "stdout"
        },
        {
          "output_type": "execute_result",
          "data": {
            "text/plain": [
              "array([[71.328354],\n",
              "       [70.985725],\n",
              "       [70.29947 ],\n",
              "       [70.90454 ],\n",
              "       [71.26602 ]], dtype=float32)"
            ]
          },
          "metadata": {
            "tags": []
          },
          "execution_count": 51
        }
      ]
    },
    {
      "cell_type": "code",
      "metadata": {
        "colab": {
          "base_uri": "https://localhost:8080/"
        },
        "id": "SSAnPUk9Q6u7",
        "outputId": "1fba291b-65a1-4c05-aa8e-bd0aee78ae32"
      },
      "source": [
        "# calculating the training mean-squared-error\n",
        "train_loss = model.evaluate(X_train, y_train, batch_size = 1)\n",
        "\n",
        "# calculating the test mean-squared-error\n",
        "test_loss = model.evaluate(X_test, y_test, batch_size = 1)\n",
        "\n",
        "# printing the training and the test mean-squared-errors\n",
        "print('Train Loss =', round(train_loss,4))\n",
        "print('Test Loss =', round(test_loss,4))"
      ],
      "execution_count": null,
      "outputs": [
        {
          "output_type": "stream",
          "text": [
            "1275/1275 [==============================] - 6s 3ms/step - loss: 7.2733e-04\n",
            "317/317 [==============================] - 1s 3ms/step - loss: 0.2634\n",
            "Train Loss = 0.0007\n",
            "Test Loss = 0.2634\n"
          ],
          "name": "stdout"
        }
      ]
    },
    {
      "cell_type": "code",
      "metadata": {
        "colab": {
          "base_uri": "https://localhost:8080/"
        },
        "id": "YJdOobpFQ-OT",
        "outputId": "f8760059-019c-4705-84be-cfc173c0acaf"
      },
      "source": [
        "# calculating root mean squared error\n",
        "root_mean_square_error = np.sqrt(np.mean(np.power((y_test - predictions),2)))\n",
        "print('Root Mean Square Error =', round(root_mean_square_error,4))"
      ],
      "execution_count": null,
      "outputs": [
        {
          "output_type": "stream",
          "text": [
            "Root Mean Square Error = 78.7696\n"
          ],
          "name": "stdout"
        }
      ]
    },
    {
      "cell_type": "code",
      "metadata": {
        "colab": {
          "base_uri": "https://localhost:8080/"
        },
        "id": "1RN8elKSRE91",
        "outputId": "37cda373-234e-4691-9e29-bc80fe71d638"
      },
      "source": [
        "# calculating root mean squared error using sklearn.metrics package\n",
        "rmse = metrics.mean_squared_error(y_test, predictions)\n",
        "print('Root Mean Square Error (sklearn.metrics) =', round(np.sqrt(rmse),4))"
      ],
      "execution_count": null,
      "outputs": [
        {
          "output_type": "stream",
          "text": [
            "Root Mean Square Error (sklearn.metrics) = 78.7696\n"
          ],
          "name": "stdout"
        }
      ]
    },
    {
      "cell_type": "code",
      "metadata": {
        "id": "rDdO3RaQRKcv"
      },
      "source": [
        "# unscaling the test feature dataset, x_test\n",
        "X_test = scaler_x.inverse_transform(np.array(X_test).reshape((len(X_test), len(cols))))\n",
        "\n",
        "# unscaling the test y dataset, y_test\n",
        "y_train = scaler_y.inverse_transform(np.array(y_train).reshape((len(y_train), 1)))\n",
        "y_test = scaler_y.inverse_transform(np.array(y_test).reshape((len(y_test), 1)))"
      ],
      "execution_count": null,
      "outputs": []
    },
    {
      "cell_type": "code",
      "metadata": {
        "colab": {
          "base_uri": "https://localhost:8080/"
        },
        "id": "0cyTWIaoRNlF",
        "outputId": "f1ccc328-883a-4605-bfca-5d2b0eae991f"
      },
      "source": [
        "# plotting\n",
        "plt.figure(figsize=(16,10))\n",
        "\n",
        "# plt.plot([row[0] for row in y_train], label=\"Training Close Price\")\n",
        "plt.plot(predictions, label=\"Predicted Close Price\")\n",
        "plt.plot([row[0] for row in y_test], label=\"Testing Close Price\")\n",
        "plt.legend(loc='upper center', bbox_to_anchor=(0.5, -0.05), fancybox=True, shadow=True, ncol=2)\n",
        "plt.show()"
      ],
      "execution_count": null,
      "outputs": [
        {
          "output_type": "display_data",
          "data": {
            "image/png": "[encoded data removed]",
            "text/plain": [
              "<Figure size 1152x720 with 1 Axes>"
            ]
          },
          "metadata": {
            "tags": [],
            "needs_background": "light"
          }
        }
      ]
    },
    {
      "cell_type": "code",
      "metadata": {
        "id": "GdYfcMReRQj6"
      },
      "source": [
        ""
      ],
      "execution_count": null,
      "outputs": []
    }
  ]
}